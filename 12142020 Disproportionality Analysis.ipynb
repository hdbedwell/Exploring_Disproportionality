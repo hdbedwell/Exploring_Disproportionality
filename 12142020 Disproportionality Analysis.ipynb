{
 "cells": [
  {
   "cell_type": "code",
   "execution_count": 124,
   "metadata": {},
   "outputs": [
    {
     "name": "stderr",
     "output_type": "stream",
     "text": [
      "UsageError: Line magic function `%` not found.\n"
     ]
    }
   ],
   "source": [
    "# Import libraries\n",
    "import pandas as pd\n",
    "import matplotlib.pyplot as plt\n",
    "% matplotlib inline\n"
   ]
  },
  {
   "cell_type": "code",
   "execution_count": 99,
   "metadata": {},
   "outputs": [
    {
     "name": "stderr",
     "output_type": "stream",
     "text": [
      "/opt/anaconda3/lib/python3.7/site-packages/IPython/core/interactiveshell.py:3146: DtypeWarning: Columns (8) have mixed types.Specify dtype option on import or set low_memory=False.\n",
      "  interactivity=interactivity, compiler=compiler, result=result)\n"
     ]
    }
   ],
   "source": [
    "###Import enrollment files\n",
    "##1. Find file in finder\n",
    "##2. Option + Command + C\n",
    "##3. Paste Info read_csv(r” ”)\n",
    "\n",
    "\n",
    "enroll_1213 = pd.read_csv(r\"/Users/holly/Desktop/nycdoe/SPOP Enrollment Files/2012-13_enroll.csv\")\n",
    "enroll_1314 = pd.read_csv(r\"/Users/holly/Desktop/nycdoe/SPOP Enrollment Files/2013-14_enroll.csv\")\n",
    "enroll_1415 = pd.read_csv(r\"/Users/holly/Desktop/nycdoe/SPOP Enrollment Files/2014-15_enroll.csv\")\n",
    "enroll_1516 = pd.read_csv(r\"/Users/holly/Desktop/nycdoe/SPOP Enrollment Files/2015-16_enroll.csv\")\n",
    "enroll_1617 = pd.read_csv(r\"/Users/holly/Desktop/nycdoe/SPOP Enrollment Files/2016-17_enroll.csv\") \n",
    "enroll_1718 = pd.read_csv(r\"/Users/holly/Desktop/nycdoe/SPOP Enrollment Files/2017-18_enroll.csv\")  \n",
    "enroll_1819 = pd.read_csv(r\"/Users/holly/Desktop/nycdoe/SPOP Enrollment Files/2018-19_enroll.csv\")\n",
    "enroll_1920 = pd.read_csv(r\"/Users/holly/Desktop/nycdoe/SPOP Enrollment Files/2019-20_enroll.csv\")"
   ]
  },
  {
   "cell_type": "code",
   "execution_count": 100,
   "metadata": {},
   "outputs": [],
   "source": [
    "#https://thispointer.com/python-pandas-how-to-add-new-columns-in-a-dataframe-using-or-dataframe-assign/\n",
    "#df_obj['Total'] = 50\n",
    "enroll_1213['year'] = '2012-2013'\n",
    "enroll_1314['year'] = '2013-2014'\n",
    "enroll_1415['year'] = '2014-2015'\n",
    "enroll_1516['year'] = '2015-2016'\n",
    "enroll_1617['year'] = '2016-2017'\n",
    "enroll_1718['year'] = '2017-2018'\n",
    "enroll_1819['year'] = '2018-2019'\n",
    "enroll_1920['year'] = '2019-2020'"
   ]
  },
  {
   "cell_type": "code",
   "execution_count": 101,
   "metadata": {},
   "outputs": [],
   "source": [
    "#new_rows = df1.append(df2)\n",
    "enroll_1214 = enroll_1213.append(enroll_1314)\n",
    "enroll_1215 = enroll_1214.append(enroll_1415)\n",
    "enroll_1216 = enroll_1215.append(enroll_1516)\n",
    "enroll_1217 = enroll_1216.append(enroll_1617)\n",
    "enroll_1218 = enroll_1217.append(enroll_1718)\n",
    "enroll_1219 = enroll_1218.append(enroll_1819)\n",
    "enroll_final = enroll_1219.append(enroll_1920)"
   ]
  },
  {
   "cell_type": "code",
   "execution_count": 102,
   "metadata": {},
   "outputs": [
    {
     "data": {
      "text/plain": [
       "(8388600, 39)"
      ]
     },
     "execution_count": 102,
     "metadata": {},
     "output_type": "execute_result"
    }
   ],
   "source": [
    "enroll_final.shape"
   ]
  },
  {
   "cell_type": "code",
   "execution_count": 103,
   "metadata": {},
   "outputs": [],
   "source": [
    "#Source: https://thispointer.com/python-pandas-how-to-add-new-columns-in-a-dataframe-using-or-dataframe-assign/\n",
    "#Source: https://stackoverflow.com/questions/26886653/pandas-create-new-column-based-on-values-from-other-columns-apply-a-function-o\n",
    "#df_obj['Percentage'] = (df_obj['Marks'] / df_obj['Total']) * 100\n",
    "\n",
    "#enroll_1213['grade_cat'] = (enroll_1213['grade_level'])\n",
    "\n",
    "def grade_cat (row):\n",
    "    if row['grade_level'] == \"K\":\n",
    "      return 'ES'\n",
    "    if row['grade_level'] == \"1\":\n",
    "      return 'ES'\n",
    "    if row['grade_level'] == \"2\":\n",
    "      return 'ES'\n",
    "    if row['grade_level'] == \"3\":\n",
    "      return 'ES'\n",
    "    if row['grade_level'] == \"4\":\n",
    "      return 'ES'\n",
    "    if row['grade_level'] == \"5\":\n",
    "      return 'ES'\n",
    "    if row['grade_level'] == \"6\":\n",
    "      return 'MS'\n",
    "    if row['grade_level'] == \"7\":\n",
    "      return 'MS'\n",
    "    if row['grade_level'] == \"8\":\n",
    "      return 'MS'\n",
    "    if row['grade_level'] == \"9\":\n",
    "      return 'HS'\n",
    "    if row['grade_level'] == \"10\":\n",
    "      return 'HS'\n",
    "    if row['grade_level'] == \"11\":\n",
    "      return 'HS'\n",
    "    if row['grade_level'] == \"12\":\n",
    "      return 'HS'\n",
    "    return 'Other'"
   ]
  },
  {
   "cell_type": "code",
   "execution_count": 104,
   "metadata": {},
   "outputs": [
    {
     "data": {
      "text/plain": [
       "0          HS\n",
       "1          HS\n",
       "2          HS\n",
       "3          HS\n",
       "4          HS\n",
       "           ..\n",
       "1048570    MS\n",
       "1048571    ES\n",
       "1048572    MS\n",
       "1048573    MS\n",
       "1048574    MS\n",
       "Length: 8388600, dtype: object"
      ]
     },
     "execution_count": 104,
     "metadata": {},
     "output_type": "execute_result"
    }
   ],
   "source": [
    "#enroll_1213.apply (lambda row: grade_cat(row), axis=1)\n",
    "enroll_final.apply (lambda row: grade_cat(row), axis=1)"
   ]
  },
  {
   "cell_type": "code",
   "execution_count": 105,
   "metadata": {},
   "outputs": [],
   "source": [
    "enroll_final['grade_cat'] = enroll_final.apply (lambda row: grade_cat(row), axis=1)"
   ]
  },
  {
   "cell_type": "code",
   "execution_count": 106,
   "metadata": {
    "scrolled": true
   },
   "outputs": [],
   "source": [
    "#enroll_1213.shape, enroll_1314.shape, enroll_1415.shape, enroll_1516.shape, enroll_1617.shape, enroll_1718.shape, enroll_1819.shape, enroll_1920.shape"
   ]
  },
  {
   "cell_type": "code",
   "execution_count": 98,
   "metadata": {
    "scrolled": false
   },
   "outputs": [
    {
     "data": {
      "text/html": [
       "<div>\n",
       "<style scoped>\n",
       "    .dataframe tbody tr th:only-of-type {\n",
       "        vertical-align: middle;\n",
       "    }\n",
       "\n",
       "    .dataframe tbody tr th {\n",
       "        vertical-align: top;\n",
       "    }\n",
       "\n",
       "    .dataframe thead th {\n",
       "        text-align: right;\n",
       "    }\n",
       "</style>\n",
       "<table border=\"1\" class=\"dataframe\">\n",
       "  <thead>\n",
       "    <tr style=\"text-align: right;\">\n",
       "      <th></th>\n",
       "      <th>dbn</th>\n",
       "      <th>student_id</th>\n",
       "      <th>dob</th>\n",
       "      <th>sex</th>\n",
       "      <th>ethnicity</th>\n",
       "      <th>poverty</th>\n",
       "      <th>admit_date</th>\n",
       "      <th>home_lang</th>\n",
       "      <th>grade_level</th>\n",
       "      <th>iep_spec_ed_flg</th>\n",
       "      <th>...</th>\n",
       "      <th>hispanic</th>\n",
       "      <th>other</th>\n",
       "      <th>white</th>\n",
       "      <th>swd</th>\n",
       "      <th>ell</th>\n",
       "      <th>frl</th>\n",
       "      <th>district</th>\n",
       "      <th>borough</th>\n",
       "      <th>year</th>\n",
       "      <th>grade_cat</th>\n",
       "    </tr>\n",
       "  </thead>\n",
       "  <tbody>\n",
       "    <tr>\n",
       "      <th>0</th>\n",
       "      <td>26Q495</td>\n",
       "      <td>200000024</td>\n",
       "      <td>19941228</td>\n",
       "      <td>F</td>\n",
       "      <td>Asian</td>\n",
       "      <td>1</td>\n",
       "      <td>20110702</td>\n",
       "      <td>MN</td>\n",
       "      <td>12</td>\n",
       "      <td>NaN</td>\n",
       "      <td>...</td>\n",
       "      <td>0</td>\n",
       "      <td>0</td>\n",
       "      <td>0</td>\n",
       "      <td>0</td>\n",
       "      <td>0</td>\n",
       "      <td>1</td>\n",
       "      <td>26</td>\n",
       "      <td>Queens</td>\n",
       "      <td>2012-2013</td>\n",
       "      <td>HS</td>\n",
       "    </tr>\n",
       "    <tr>\n",
       "      <th>1</th>\n",
       "      <td>01M515</td>\n",
       "      <td>200000107</td>\n",
       "      <td>19950207</td>\n",
       "      <td>F</td>\n",
       "      <td>Hispanic</td>\n",
       "      <td>1</td>\n",
       "      <td>20121010</td>\n",
       "      <td>SP</td>\n",
       "      <td>11</td>\n",
       "      <td>NaN</td>\n",
       "      <td>...</td>\n",
       "      <td>1</td>\n",
       "      <td>0</td>\n",
       "      <td>0</td>\n",
       "      <td>0</td>\n",
       "      <td>0</td>\n",
       "      <td>1</td>\n",
       "      <td>1</td>\n",
       "      <td>Manhattan</td>\n",
       "      <td>2012-2013</td>\n",
       "      <td>HS</td>\n",
       "    </tr>\n",
       "    <tr>\n",
       "      <th>2</th>\n",
       "      <td>02M305</td>\n",
       "      <td>200000123</td>\n",
       "      <td>19950818</td>\n",
       "      <td>F</td>\n",
       "      <td>Hispanic</td>\n",
       "      <td>1</td>\n",
       "      <td>20110702</td>\n",
       "      <td>SP</td>\n",
       "      <td>10</td>\n",
       "      <td>Y</td>\n",
       "      <td>...</td>\n",
       "      <td>1</td>\n",
       "      <td>0</td>\n",
       "      <td>0</td>\n",
       "      <td>1</td>\n",
       "      <td>1</td>\n",
       "      <td>1</td>\n",
       "      <td>2</td>\n",
       "      <td>Manhattan</td>\n",
       "      <td>2012-2013</td>\n",
       "      <td>HS</td>\n",
       "    </tr>\n",
       "    <tr>\n",
       "      <th>3</th>\n",
       "      <td>01M450</td>\n",
       "      <td>200000156</td>\n",
       "      <td>19961018</td>\n",
       "      <td>F</td>\n",
       "      <td>Hispanic</td>\n",
       "      <td>1</td>\n",
       "      <td>20110702</td>\n",
       "      <td>SP</td>\n",
       "      <td>10</td>\n",
       "      <td>NaN</td>\n",
       "      <td>...</td>\n",
       "      <td>1</td>\n",
       "      <td>0</td>\n",
       "      <td>0</td>\n",
       "      <td>0</td>\n",
       "      <td>0</td>\n",
       "      <td>1</td>\n",
       "      <td>1</td>\n",
       "      <td>Manhattan</td>\n",
       "      <td>2012-2013</td>\n",
       "      <td>HS</td>\n",
       "    </tr>\n",
       "    <tr>\n",
       "      <th>4</th>\n",
       "      <td>01M450</td>\n",
       "      <td>200000180</td>\n",
       "      <td>19960522</td>\n",
       "      <td>M</td>\n",
       "      <td>Hispanic</td>\n",
       "      <td>1</td>\n",
       "      <td>20110702</td>\n",
       "      <td>NO</td>\n",
       "      <td>10</td>\n",
       "      <td>Y</td>\n",
       "      <td>...</td>\n",
       "      <td>1</td>\n",
       "      <td>0</td>\n",
       "      <td>0</td>\n",
       "      <td>1</td>\n",
       "      <td>0</td>\n",
       "      <td>1</td>\n",
       "      <td>1</td>\n",
       "      <td>Manhattan</td>\n",
       "      <td>2012-2013</td>\n",
       "      <td>HS</td>\n",
       "    </tr>\n",
       "  </tbody>\n",
       "</table>\n",
       "<p>5 rows × 40 columns</p>\n",
       "</div>"
      ],
      "text/plain": [
       "      dbn  student_id       dob sex ethnicity  poverty  admit_date home_lang  \\\n",
       "0  26Q495   200000024  19941228   F     Asian        1    20110702        MN   \n",
       "1  01M515   200000107  19950207   F  Hispanic        1    20121010        SP   \n",
       "2  02M305   200000123  19950818   F  Hispanic        1    20110702        SP   \n",
       "3  01M450   200000156  19961018   F  Hispanic        1    20110702        SP   \n",
       "4  01M450   200000180  19960522   M  Hispanic        1    20110702        NO   \n",
       "\n",
       "  grade_level iep_spec_ed_flg  ... hispanic  other  white  swd  ell  frl  \\\n",
       "0          12             NaN  ...        0      0      0    0    0    1   \n",
       "1          11             NaN  ...        1      0      0    0    0    1   \n",
       "2          10               Y  ...        1      0      0    1    1    1   \n",
       "3          10             NaN  ...        1      0      0    0    0    1   \n",
       "4          10               Y  ...        1      0      0    1    0    1   \n",
       "\n",
       "   district    borough       year  grade_cat  \n",
       "0        26     Queens  2012-2013         HS  \n",
       "1         1  Manhattan  2012-2013         HS  \n",
       "2         2  Manhattan  2012-2013         HS  \n",
       "3         1  Manhattan  2012-2013         HS  \n",
       "4         1  Manhattan  2012-2013         HS  \n",
       "\n",
       "[5 rows x 40 columns]"
      ]
     },
     "execution_count": 98,
     "metadata": {},
     "output_type": "execute_result"
    }
   ],
   "source": [
    "enroll_final.head()"
   ]
  },
  {
   "cell_type": "code",
   "execution_count": 107,
   "metadata": {
    "scrolled": true
   },
   "outputs": [
    {
     "name": "stdout",
     "output_type": "stream",
     "text": [
      "6427658\n"
     ]
    }
   ],
   "source": [
    "#Confirm there are no duplicate student_ids in the enrollment data.\n",
    "#print(enroll_1213.duplicated('student_id').sum()), \n",
    "#print(enroll_1314.duplicated('student_id').sum()),\n",
    "#print(enroll_1415.duplicated('student_id').sum()), \n",
    "#print(enroll_1516.duplicated('student_id').sum()),\n",
    "#print(enroll_1617.duplicated('student_id').sum()),\n",
    "#print(enroll_1718.duplicated('student_id').sum()),\n",
    "#print(enroll_1819.duplicated('student_id').sum()),\n",
    "#print(enroll_1920.duplicated('student_id').sum())\n",
    "\n",
    "#print(enroll_final.duplicated('student_id').sum())"
   ]
  },
  {
   "cell_type": "code",
   "execution_count": 85,
   "metadata": {
    "scrolled": true
   },
   "outputs": [],
   "source": [
    "#enroll_1213.query('grade_level == \"PK\"').sum()\n",
    "#enroll_1213.query('district == \"84\"').sum()"
   ]
  },
  {
   "cell_type": "code",
   "execution_count": 108,
   "metadata": {},
   "outputs": [],
   "source": [
    "#Source: https://www.listendata.com/2019/07/how-to-filter-pandas-dataframe.html\n",
    "#Drop all PK students and D84/charter schools from the files (f1)\n",
    "\n",
    "#enroll_1213 = enroll_1213.query('grade_level != \"PK\" & district != \"84\"')\n",
    "#enroll_1314 = enroll_1314.query('grade_level != \"PK\" & district != \"84\"')\n",
    "#enroll_1415 = enroll_1415.query('grade_level != \"PK\" & district != \"84\"')\n",
    "#enroll_1516 = enroll_1516.query('grade_level != \"PK\" & district != \"84\"')\n",
    "#enroll_1617 = enroll_1617.query('grade_level != \"PK\" & district != \"84\"')\n",
    "#enroll_1718 = enroll_1718.query('grade_level != \"PK\" & district != \"84\"')\n",
    "#enroll_1819 = enroll_1819.query('grade_level != \"PK\" & district != \"84\"')\n",
    "#enroll_1920 = enroll_1920.query('grade_level != \"PK\" & district != \"84\"')\n",
    "\n",
    "enroll_final = enroll_final.query('grade_level != \"PK\" & district != \"84\"')"
   ]
  },
  {
   "cell_type": "code",
   "execution_count": 109,
   "metadata": {},
   "outputs": [
    {
     "data": {
      "text/plain": [
       "(7394663, 40)"
      ]
     },
     "execution_count": 109,
     "metadata": {},
     "output_type": "execute_result"
    }
   ],
   "source": [
    "enroll_final.shape"
   ]
  },
  {
   "cell_type": "code",
   "execution_count": 110,
   "metadata": {},
   "outputs": [],
   "source": [
    "#Source: https://stackoverflow.com/questions/27965295/dropping-rows-from-dataframe-based-on-a-not-in-condition\n",
    "#df = df[~df['date'].isin(a)]\n",
    "\n",
    "dbn_to_remove = [\"75M501\", \"75K403\", \"75K503\", \"75M401\", \"75M444\", \"75R405\", \"75R505\", \"75Q404\", \"75Q504\", \"75X402\", \"75X502\"]\n",
    "\n",
    "#enroll_1213 = enroll_1213[~enroll_1213['dbn'].isin(dbn_to_remove)]\n",
    "#enroll_1314 = enroll_1314[~enroll_1314['dbn'].isin(dbn_to_remove)]\n",
    "#enroll_1415 = enroll_1415[~enroll_1415['dbn'].isin(dbn_to_remove)]\n",
    "#enroll_1516 = enroll_1516[~enroll_1516['dbn'].isin(dbn_to_remove)]\n",
    "#enroll_1617 = enroll_1617[~enroll_1617['dbn'].isin(dbn_to_remove)]\n",
    "#enroll_1718 = enroll_1718[~enroll_1718['dbn'].isin(dbn_to_remove)]\n",
    "#enroll_1819 = enroll_1819[~enroll_1819['dbn'].isin(dbn_to_remove)]\n",
    "#enroll_1920 = enroll_1920[~enroll_1920['dbn'].isin(dbn_to_remove)]\n",
    "\n",
    "enroll_final = enroll_final[~enroll_final['dbn'].isin(dbn_to_remove)]"
   ]
  },
  {
   "cell_type": "code",
   "execution_count": 111,
   "metadata": {},
   "outputs": [
    {
     "data": {
      "text/plain": [
       "(7390281, 40)"
      ]
     },
     "execution_count": 111,
     "metadata": {},
     "output_type": "execute_result"
    }
   ],
   "source": [
    "enroll_final.shape"
   ]
  },
  {
   "cell_type": "code",
   "execution_count": 115,
   "metadata": {
    "scrolled": true
   },
   "outputs": [
    {
     "data": {
      "image/png": "[encoded data removed]",
      "text/plain": [
       "<Figure size 432x288 with 1 Axes>"
      ]
     },
     "metadata": {
      "needs_background": "light"
     },
     "output_type": "display_data"
    }
   ],
   "source": [
    "enroll_final.groupby('year').total.sum().plot(kind='bar');"
   ]
  },
  {
   "cell_type": "code",
   "execution_count": 121,
   "metadata": {},
   "outputs": [
    {
     "data": {
      "text/plain": [
       "<AxesSubplot:title={'center':'Title'}, xlabel='year,ethnicity'>"
      ]
     },
     "execution_count": 121,
     "metadata": {},
     "output_type": "execute_result"
    },
    {
     "data": {
      "image/png": "[encoded data removed]",
      "text/plain": [
       "<Figure size 432x288 with 1 Axes>"
      ]
     },
     "metadata": {
      "needs_background": "light"
     },
     "output_type": "display_data"
    }
   ],
   "source": [
    "enroll_final.groupby('year')['ethnicity'].value_counts().plot(kind='bar', title='Title', alpha=.7 )"
   ]
  },
  {
   "cell_type": "code",
   "execution_count": 119,
   "metadata": {},
   "outputs": [],
   "source": [
    "#enroll_final.plot(x = 'black', y='swd', kind='scatter');"
   ]
  },
  {
   "cell_type": "code",
   "execution_count": 128,
   "metadata": {
    "scrolled": true
   },
   "outputs": [
    {
     "data": {
      "image/png": "[encoded data removed]",
      "text/plain": [
       "<Figure size 432x288 with 1 Axes>"
      ]
     },
     "metadata": {
      "needs_background": "light"
     },
     "output_type": "display_data"
    }
   ],
   "source": [
    "enroll_final.groupby(['year', 'ethnicity']).total.sum().plot(kind='bar', alpha=0.7);"
   ]
  },
  {
   "cell_type": "code",
   "execution_count": 134,
   "metadata": {},
   "outputs": [
    {
     "data": {
      "text/plain": [
       "year       ethnicity\n",
       "2012-2013  Asian        16.071474\n",
       "           Black        27.231864\n",
       "           Hispanic     40.492114\n",
       "           Other         1.285911\n",
       "           White        14.918637\n",
       "2013-2014  Asian        16.361045\n",
       "           Black        26.225259\n",
       "           Hispanic     40.695318\n",
       "           Other         1.698277\n",
       "           White        15.020101\n",
       "2014-2015  Asian        16.862484\n",
       "           Black        25.062279\n",
       "           Hispanic     40.837333\n",
       "           Other         1.826927\n",
       "           White        15.410977\n",
       "2015-2016  Asian        16.958703\n",
       "           Black        24.391254\n",
       "           Hispanic     40.965429\n",
       "           Other         2.075327\n",
       "           White        15.609287\n",
       "2016-2017  Asian        17.189132\n",
       "           Black        23.795013\n",
       "           Hispanic     41.066003\n",
       "           Other         2.235662\n",
       "           White        15.714190\n",
       "2017-2018  Asian        17.586786\n",
       "           Black        23.059293\n",
       "           Hispanic     41.076827\n",
       "           Other         2.420375\n",
       "           White        15.856719\n",
       "2018-2019  Asian        17.898623\n",
       "           Black        22.385683\n",
       "           Hispanic     41.039811\n",
       "           Other         2.698173\n",
       "           White        15.977710\n",
       "2019-2020  Asian        18.217519\n",
       "           Black        21.625946\n",
       "           Hispanic     41.231100\n",
       "           Other         2.778768\n",
       "           White        16.146668\n",
       "Name: borough, dtype: float64"
      ]
     },
     "execution_count": 134,
     "metadata": {},
     "output_type": "execute_result"
    }
   ],
   "source": [
    "counts = enroll_final.groupby(['year', 'ethnicity']).borough.count()\n",
    "totals = enroll_final.groupby(['year']).borough.count()\n",
    "prop = (counts/totals) * 100\n",
    "prop"
   ]
  },
  {
   "cell_type": "code",
   "execution_count": 145,
   "metadata": {},
   "outputs": [
    {
     "data": {
      "image/png": "[encoded data removed]",
      "text/plain": [
       "<Figure size 1080x360 with 1 Axes>"
      ]
     },
     "metadata": {
      "needs_background": "light"
     },
     "output_type": "display_data"
    }
   ],
   "source": [
    "#Source: https://pythonbasics.org/matplotlib-bar-chart/\n",
    "#Source: https://stackoverflow.com/questions/10998621/rotate-axis-text-in-python-matplotlib\n",
    "prop.plot(kind='bar', title='Percent of Enrollment', alpha=0.7, figsize=(15, 5))\n",
    "plt.xlabel(\"Year/Race\", fontsize=18)\n",
    "plt.ylabel(\"Percent\", fontsize=18)\n",
    "plt.xticks(rotation=90)\n",
    "plt.show()"
   ]
  },
  {
   "cell_type": "code",
   "execution_count": null,
   "metadata": {},
   "outputs": [],
   "source": [
    "#enroll_final.SibSp[survived].value_counts().plot(kind='bar', alpha=0.5, color='blue', label='survived')\n",
    "#df.SibSp[died].value_counts().plot(kind='bar', alpha=0.5, color='orange', label='died')\n",
    "Plt.legend();\n"
   ]
  },
  {
   "cell_type": "code",
   "execution_count": 112,
   "metadata": {},
   "outputs": [
    {
     "name": "stdout",
     "output_type": "stream",
     "text": [
      "                  total                                                  \\\n",
      "year          2012-2013                               2013-2014           \n",
      "ethnicity         Asian   Black Hispanic Other  White     Asian   Black   \n",
      "borough                                                                   \n",
      "Bronx              9038   55951   122112  1886   8122      8878   54565   \n",
      "Brooklyn          42938  107117    77990  2795  44393     44345  100422   \n",
      "Manhattan         18774   29786    65492  2526  22645     18584   28194   \n",
      "Queens            74855   53720    98426  4149  35081     74538   50996   \n",
      "Staten Island      4635    7996    14510   665  29222      4522    7649   \n",
      "\n",
      "                                     ...                                  \\\n",
      "year                                 ... 2018-2019                         \n",
      "ethnicity     Hispanic Other  White  ...     Asian  Black Hispanic Other   \n",
      "borough                              ...                                   \n",
      "Bronx           121479  2488   8215  ...     10249  47879   120271  2987   \n",
      "Brooklyn         77272  3702  44966  ...     51190  82393    77649  5997   \n",
      "Manhattan        63053  3148  23112  ...     19321  25269    61343  5459   \n",
      "Queens           98567  5486  34251  ...     79717  45545   106405  9247   \n",
      "Staten Island    14885   836  27958  ...      6544   7806    17295  1488   \n",
      "\n",
      "                                                             \n",
      "year                 2019-2020                               \n",
      "ethnicity      White     Asian  Black Hispanic Other  White  \n",
      "borough                                                      \n",
      "Bronx           9054     10063  45024   115820  2862   8696  \n",
      "Brooklyn       51482     51578  77774    77390  6091  51681  \n",
      "Manhattan      27193     19236  24569    60783  5545  27518  \n",
      "Queens         34424     78668  42951   105816  9517  33593  \n",
      "Staten Island  26943      7134   7546    17430  1409  26244  \n",
      "\n",
      "[5 rows x 40 columns]\n"
     ]
    }
   ],
   "source": [
    "#Pivot susp data to get race summary\n",
    "enroll_pivot = pd.DataFrame(enroll_final, columns= ['borough','year','ethnicity', 'sex', 'swd', 'grade_cat', 'total'])\n",
    "\n",
    "race_enroll_pivot = enroll_pivot.pivot_table(index=['borough'], columns=['year','ethnicity'], values=['total'], aggfunc='sum', fill_value=0)\n",
    "print(race_enroll_pivot)"
   ]
  },
  {
   "cell_type": "code",
   "execution_count": 113,
   "metadata": {},
   "outputs": [
    {
     "name": "stdout",
     "output_type": "stream",
     "text": [
      "                  total                                                        \\\n",
      "year          2012-2013                                                         \n",
      "ethnicity         Asian        Black        Hispanic        Other       White   \n",
      "swd                   0     1      0      1        0      1     0    1      0   \n",
      "borough                                                                         \n",
      "Bronx              8402   636  43508  12443    94959  27153  1527  359   6795   \n",
      "Brooklyn          39982  2956  86112  21005    60747  17243  2345  450  37789   \n",
      "Manhattan         17359  1415  23106   6680    52163  13329  2132  394  19857   \n",
      "Queens            69315  5540  42802  10918    80148  18278  3593  556  29044   \n",
      "Staten Island      4288   347   5607   2389    10500   4010   525  140  22902   \n",
      "\n",
      "                     ...                                                      \\\n",
      "year                 ... 2019-2020                                             \n",
      "ethnicity            ...     Asian        Black        Hispanic        Other   \n",
      "swd               1  ...         0     1      0      1        0      1     0   \n",
      "borough              ...                                                       \n",
      "Bronx          1327  ...      9100   963  32282  12742    84418  31402  2278   \n",
      "Brooklyn       6604  ...     46634  4944  57268  20506    56402  20988  5041   \n",
      "Manhattan      2788  ...     17425  1811  17196   7373    44558  16225  4699   \n",
      "Queens         6037  ...     71200  7468  32375  10576    81714  24102  8050   \n",
      "Staten Island  6320  ...      6330   804   4860   2686    11379   6051  1010   \n",
      "\n",
      "                                  \n",
      "year                              \n",
      "ethnicity            White        \n",
      "swd               1      0     1  \n",
      "borough                           \n",
      "Bronx           584   7285  1411  \n",
      "Brooklyn       1050  43205  8476  \n",
      "Manhattan       846  23411  4107  \n",
      "Queens         1467  26887  6706  \n",
      "Staten Island   399  19943  6301  \n",
      "\n",
      "[5 rows x 80 columns]\n"
     ]
    }
   ],
   "source": [
    "race_swd_enroll_pivot = enroll_pivot.pivot_table(index=['borough'], columns=['year','ethnicity', 'swd'], values=['total'], aggfunc='sum', fill_value=0)\n",
    "print(race_swd_enroll_pivot)"
   ]
  },
  {
   "cell_type": "code",
   "execution_count": 74,
   "metadata": {},
   "outputs": [
    {
     "data": {
      "text/plain": [
       "borough        ethnicity\n",
       "Bronx          Asian          9038\n",
       "               Black         55951\n",
       "               Hispanic     122112\n",
       "               Other          1886\n",
       "               White          8122\n",
       "Brooklyn       Asian         42938\n",
       "               Black        107117\n",
       "               Hispanic      77990\n",
       "               Other          2795\n",
       "               White         44393\n",
       "Manhattan      Asian         18774\n",
       "               Black         29786\n",
       "               Hispanic      65492\n",
       "               Other          2526\n",
       "               White         22645\n",
       "Queens         Asian         74855\n",
       "               Black         53720\n",
       "               Hispanic      98426\n",
       "               Other          4149\n",
       "               White         35081\n",
       "Staten Island  Asian          4635\n",
       "               Black          7996\n",
       "               Hispanic      14510\n",
       "               Other           665\n",
       "               White         29222\n",
       "Name: total, dtype: int64"
      ]
     },
     "execution_count": 74,
     "metadata": {},
     "output_type": "execute_result"
    }
   ],
   "source": [
    "#df.groupby('Sex')['Pclass'].value_counts\n",
    "\n",
    "#race_enroll_1213 = enroll_1213.groupby(['borough', 'ethnicity', ])['total'].sum()\n",
    "#race_enroll_1213"
   ]
  }
 ],
 "metadata": {
  "kernelspec": {
   "display_name": "Python 3",
   "language": "python",
   "name": "python3"
  },
  "language_info": {
   "codemirror_mode": {
    "name": "ipython",
    "version": 3
   },
   "file_extension": ".py",
   "mimetype": "text/x-python",
   "name": "python",
   "nbconvert_exporter": "python",
   "pygments_lexer": "ipython3",
   "version": "3.7.9"
  }
 },
 "nbformat": 4,
 "nbformat_minor": 4
}
