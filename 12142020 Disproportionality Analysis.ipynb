{
 "cells": [
  {
   "cell_type": "code",
   "execution_count": 325,
   "metadata": {},
   "outputs": [
    {
     "name": "stderr",
     "output_type": "stream",
     "text": [
      "UsageError: Line magic function `%` not found.\n"
     ]
    }
   ],
   "source": [
    "# Import libraries\n",
    "import pandas as pd\n",
    "from pandas import ExcelWriter\n",
    "import numpy as np\n",
    "import matplotlib.pyplot as plt\n",
    "% matplotlib inline\n"
   ]
  },
  {
   "cell_type": "code",
   "execution_count": 265,
   "metadata": {},
   "outputs": [
    {
     "name": "stderr",
     "output_type": "stream",
     "text": [
      "/opt/anaconda3/lib/python3.7/site-packages/IPython/core/interactiveshell.py:3146: DtypeWarning: Columns (8) have mixed types.Specify dtype option on import or set low_memory=False.\n",
      "  interactivity=interactivity, compiler=compiler, result=result)\n"
     ]
    }
   ],
   "source": [
    "###Import enrollment files\n",
    "##1. Find file in finder\n",
    "##2. Option + Command + C\n",
    "##3. Paste Info read_csv(r” ”)\n",
    "\n",
    "\n",
    "enroll_1213 = pd.read_csv(r\"/Users/holly/Desktop/nycdoe/SPOP Enrollment Files/2012-13_enroll.csv\")\n",
    "enroll_1314 = pd.read_csv(r\"/Users/holly/Desktop/nycdoe/SPOP Enrollment Files/2013-14_enroll.csv\")\n",
    "enroll_1415 = pd.read_csv(r\"/Users/holly/Desktop/nycdoe/SPOP Enrollment Files/2014-15_enroll.csv\")\n",
    "enroll_1516 = pd.read_csv(r\"/Users/holly/Desktop/nycdoe/SPOP Enrollment Files/2015-16_enroll.csv\")\n",
    "enroll_1617 = pd.read_csv(r\"/Users/holly/Desktop/nycdoe/SPOP Enrollment Files/2016-17_enroll.csv\") \n",
    "enroll_1718 = pd.read_csv(r\"/Users/holly/Desktop/nycdoe/SPOP Enrollment Files/2017-18_enroll.csv\")  \n",
    "enroll_1819 = pd.read_csv(r\"/Users/holly/Desktop/nycdoe/SPOP Enrollment Files/2018-19_enroll.csv\")\n",
    "enroll_1920 = pd.read_csv(r\"/Users/holly/Desktop/nycdoe/SPOP Enrollment Files/2019-20_enroll.csv\")"
   ]
  },
  {
   "cell_type": "code",
   "execution_count": 266,
   "metadata": {},
   "outputs": [],
   "source": [
    "#https://thispointer.com/python-pandas-how-to-add-new-columns-in-a-dataframe-using-or-dataframe-assign/\n",
    "#df_obj['Total'] = 50\n",
    "enroll_1213['year'] = '2012-2013'\n",
    "enroll_1314['year'] = '2013-2014'\n",
    "enroll_1415['year'] = '2014-2015'\n",
    "enroll_1516['year'] = '2015-2016'\n",
    "enroll_1617['year'] = '2016-2017'\n",
    "enroll_1718['year'] = '2017-2018'\n",
    "enroll_1819['year'] = '2018-2019'\n",
    "enroll_1920['year'] = '2019-2020'"
   ]
  },
  {
   "cell_type": "code",
   "execution_count": 267,
   "metadata": {},
   "outputs": [],
   "source": [
    "#new_rows = df1.append(df2)\n",
    "enroll_1214 = enroll_1213.append(enroll_1314)\n",
    "enroll_1215 = enroll_1214.append(enroll_1415)\n",
    "enroll_1216 = enroll_1215.append(enroll_1516)\n",
    "enroll_1217 = enroll_1216.append(enroll_1617)\n",
    "enroll_1218 = enroll_1217.append(enroll_1718)\n",
    "enroll_1219 = enroll_1218.append(enroll_1819)\n",
    "enroll_final = enroll_1219.append(enroll_1920)"
   ]
  },
  {
   "cell_type": "code",
   "execution_count": 268,
   "metadata": {},
   "outputs": [
    {
     "data": {
      "text/plain": [
       "(8388600, 39)"
      ]
     },
     "execution_count": 268,
     "metadata": {},
     "output_type": "execute_result"
    }
   ],
   "source": [
    "enroll_final.shape"
   ]
  },
  {
   "cell_type": "code",
   "execution_count": 269,
   "metadata": {},
   "outputs": [],
   "source": [
    "#Source: https://thispointer.com/python-pandas-how-to-add-new-columns-in-a-dataframe-using-or-dataframe-assign/\n",
    "#Source: https://stackoverflow.com/questions/26886653/pandas-create-new-column-based-on-values-from-other-columns-apply-a-function-o\n",
    "#df_obj['Percentage'] = (df_obj['Marks'] / df_obj['Total']) * 100\n",
    "\n",
    "#enroll_1213['grade_cat'] = (enroll_1213['grade_level'])\n",
    "\n",
    "def grade_cat (row):\n",
    "    if row['grade_level'] == \"K\":\n",
    "      return 'ES'\n",
    "    if row['grade_level'] == \"1\":\n",
    "      return 'ES'\n",
    "    if row['grade_level'] == \"2\":\n",
    "      return 'ES'\n",
    "    if row['grade_level'] == \"3\":\n",
    "      return 'ES'\n",
    "    if row['grade_level'] == \"4\":\n",
    "      return 'ES'\n",
    "    if row['grade_level'] == \"5\":\n",
    "      return 'ES'\n",
    "    if row['grade_level'] == \"6\":\n",
    "      return 'MS'\n",
    "    if row['grade_level'] == \"7\":\n",
    "      return 'MS'\n",
    "    if row['grade_level'] == \"8\":\n",
    "      return 'MS'\n",
    "    if row['grade_level'] == \"9\":\n",
    "      return 'HS'\n",
    "    if row['grade_level'] == \"10\":\n",
    "      return 'HS'\n",
    "    if row['grade_level'] == \"11\":\n",
    "      return 'HS'\n",
    "    if row['grade_level'] == \"12\":\n",
    "      return 'HS'\n",
    "    return 'Other'"
   ]
  },
  {
   "cell_type": "code",
   "execution_count": 270,
   "metadata": {},
   "outputs": [
    {
     "data": {
      "text/plain": [
       "0          HS\n",
       "1          HS\n",
       "2          HS\n",
       "3          HS\n",
       "4          HS\n",
       "           ..\n",
       "1048570    MS\n",
       "1048571    ES\n",
       "1048572    MS\n",
       "1048573    MS\n",
       "1048574    MS\n",
       "Length: 8388600, dtype: object"
      ]
     },
     "execution_count": 270,
     "metadata": {},
     "output_type": "execute_result"
    }
   ],
   "source": [
    "#enroll_1213.apply (lambda row: grade_cat(row), axis=1)\n",
    "enroll_final.apply (lambda row: grade_cat(row), axis=1)"
   ]
  },
  {
   "cell_type": "code",
   "execution_count": 271,
   "metadata": {},
   "outputs": [],
   "source": [
    "enroll_final['grade_cat'] = enroll_final.apply (lambda row: grade_cat(row), axis=1)"
   ]
  },
  {
   "cell_type": "code",
   "execution_count": 272,
   "metadata": {
    "scrolled": true
   },
   "outputs": [],
   "source": [
    "#enroll_1213.shape, enroll_1314.shape, enroll_1415.shape, enroll_1516.shape, enroll_1617.shape, enroll_1718.shape, enroll_1819.shape, enroll_1920.shape"
   ]
  },
  {
   "cell_type": "code",
   "execution_count": 273,
   "metadata": {
    "scrolled": false
   },
   "outputs": [
    {
     "data": {
      "text/html": [
       "<div>\n",
       "<style scoped>\n",
       "    .dataframe tbody tr th:only-of-type {\n",
       "        vertical-align: middle;\n",
       "    }\n",
       "\n",
       "    .dataframe tbody tr th {\n",
       "        vertical-align: top;\n",
       "    }\n",
       "\n",
       "    .dataframe thead th {\n",
       "        text-align: right;\n",
       "    }\n",
       "</style>\n",
       "<table border=\"1\" class=\"dataframe\">\n",
       "  <thead>\n",
       "    <tr style=\"text-align: right;\">\n",
       "      <th></th>\n",
       "      <th>dbn</th>\n",
       "      <th>student_id</th>\n",
       "      <th>dob</th>\n",
       "      <th>sex</th>\n",
       "      <th>ethnicity</th>\n",
       "      <th>poverty</th>\n",
       "      <th>admit_date</th>\n",
       "      <th>home_lang</th>\n",
       "      <th>grade_level</th>\n",
       "      <th>iep_spec_ed_flg</th>\n",
       "      <th>...</th>\n",
       "      <th>hispanic</th>\n",
       "      <th>other</th>\n",
       "      <th>white</th>\n",
       "      <th>swd</th>\n",
       "      <th>ell</th>\n",
       "      <th>frl</th>\n",
       "      <th>district</th>\n",
       "      <th>borough</th>\n",
       "      <th>year</th>\n",
       "      <th>grade_cat</th>\n",
       "    </tr>\n",
       "  </thead>\n",
       "  <tbody>\n",
       "    <tr>\n",
       "      <th>0</th>\n",
       "      <td>26Q495</td>\n",
       "      <td>200000024</td>\n",
       "      <td>19941228</td>\n",
       "      <td>F</td>\n",
       "      <td>Asian</td>\n",
       "      <td>1</td>\n",
       "      <td>20110702</td>\n",
       "      <td>MN</td>\n",
       "      <td>12</td>\n",
       "      <td>NaN</td>\n",
       "      <td>...</td>\n",
       "      <td>0</td>\n",
       "      <td>0</td>\n",
       "      <td>0</td>\n",
       "      <td>0</td>\n",
       "      <td>0</td>\n",
       "      <td>1</td>\n",
       "      <td>26</td>\n",
       "      <td>Queens</td>\n",
       "      <td>2012-2013</td>\n",
       "      <td>HS</td>\n",
       "    </tr>\n",
       "    <tr>\n",
       "      <th>1</th>\n",
       "      <td>01M515</td>\n",
       "      <td>200000107</td>\n",
       "      <td>19950207</td>\n",
       "      <td>F</td>\n",
       "      <td>Hispanic</td>\n",
       "      <td>1</td>\n",
       "      <td>20121010</td>\n",
       "      <td>SP</td>\n",
       "      <td>11</td>\n",
       "      <td>NaN</td>\n",
       "      <td>...</td>\n",
       "      <td>1</td>\n",
       "      <td>0</td>\n",
       "      <td>0</td>\n",
       "      <td>0</td>\n",
       "      <td>0</td>\n",
       "      <td>1</td>\n",
       "      <td>1</td>\n",
       "      <td>Manhattan</td>\n",
       "      <td>2012-2013</td>\n",
       "      <td>HS</td>\n",
       "    </tr>\n",
       "    <tr>\n",
       "      <th>2</th>\n",
       "      <td>02M305</td>\n",
       "      <td>200000123</td>\n",
       "      <td>19950818</td>\n",
       "      <td>F</td>\n",
       "      <td>Hispanic</td>\n",
       "      <td>1</td>\n",
       "      <td>20110702</td>\n",
       "      <td>SP</td>\n",
       "      <td>10</td>\n",
       "      <td>Y</td>\n",
       "      <td>...</td>\n",
       "      <td>1</td>\n",
       "      <td>0</td>\n",
       "      <td>0</td>\n",
       "      <td>1</td>\n",
       "      <td>1</td>\n",
       "      <td>1</td>\n",
       "      <td>2</td>\n",
       "      <td>Manhattan</td>\n",
       "      <td>2012-2013</td>\n",
       "      <td>HS</td>\n",
       "    </tr>\n",
       "    <tr>\n",
       "      <th>3</th>\n",
       "      <td>01M450</td>\n",
       "      <td>200000156</td>\n",
       "      <td>19961018</td>\n",
       "      <td>F</td>\n",
       "      <td>Hispanic</td>\n",
       "      <td>1</td>\n",
       "      <td>20110702</td>\n",
       "      <td>SP</td>\n",
       "      <td>10</td>\n",
       "      <td>NaN</td>\n",
       "      <td>...</td>\n",
       "      <td>1</td>\n",
       "      <td>0</td>\n",
       "      <td>0</td>\n",
       "      <td>0</td>\n",
       "      <td>0</td>\n",
       "      <td>1</td>\n",
       "      <td>1</td>\n",
       "      <td>Manhattan</td>\n",
       "      <td>2012-2013</td>\n",
       "      <td>HS</td>\n",
       "    </tr>\n",
       "    <tr>\n",
       "      <th>4</th>\n",
       "      <td>01M450</td>\n",
       "      <td>200000180</td>\n",
       "      <td>19960522</td>\n",
       "      <td>M</td>\n",
       "      <td>Hispanic</td>\n",
       "      <td>1</td>\n",
       "      <td>20110702</td>\n",
       "      <td>NO</td>\n",
       "      <td>10</td>\n",
       "      <td>Y</td>\n",
       "      <td>...</td>\n",
       "      <td>1</td>\n",
       "      <td>0</td>\n",
       "      <td>0</td>\n",
       "      <td>1</td>\n",
       "      <td>0</td>\n",
       "      <td>1</td>\n",
       "      <td>1</td>\n",
       "      <td>Manhattan</td>\n",
       "      <td>2012-2013</td>\n",
       "      <td>HS</td>\n",
       "    </tr>\n",
       "  </tbody>\n",
       "</table>\n",
       "<p>5 rows × 40 columns</p>\n",
       "</div>"
      ],
      "text/plain": [
       "      dbn  student_id       dob sex ethnicity  poverty  admit_date home_lang  \\\n",
       "0  26Q495   200000024  19941228   F     Asian        1    20110702        MN   \n",
       "1  01M515   200000107  19950207   F  Hispanic        1    20121010        SP   \n",
       "2  02M305   200000123  19950818   F  Hispanic        1    20110702        SP   \n",
       "3  01M450   200000156  19961018   F  Hispanic        1    20110702        SP   \n",
       "4  01M450   200000180  19960522   M  Hispanic        1    20110702        NO   \n",
       "\n",
       "  grade_level iep_spec_ed_flg  ... hispanic  other  white  swd  ell  frl  \\\n",
       "0          12             NaN  ...        0      0      0    0    0    1   \n",
       "1          11             NaN  ...        1      0      0    0    0    1   \n",
       "2          10               Y  ...        1      0      0    1    1    1   \n",
       "3          10             NaN  ...        1      0      0    0    0    1   \n",
       "4          10               Y  ...        1      0      0    1    0    1   \n",
       "\n",
       "   district    borough       year  grade_cat  \n",
       "0        26     Queens  2012-2013         HS  \n",
       "1         1  Manhattan  2012-2013         HS  \n",
       "2         2  Manhattan  2012-2013         HS  \n",
       "3         1  Manhattan  2012-2013         HS  \n",
       "4         1  Manhattan  2012-2013         HS  \n",
       "\n",
       "[5 rows x 40 columns]"
      ]
     },
     "execution_count": 273,
     "metadata": {},
     "output_type": "execute_result"
    }
   ],
   "source": [
    "enroll_final.head()"
   ]
  },
  {
   "cell_type": "code",
   "execution_count": 274,
   "metadata": {
    "scrolled": true
   },
   "outputs": [],
   "source": [
    "#Confirm there are no duplicate student_ids in the enrollment data.\n",
    "#print(enroll_1213.duplicated('student_id').sum()), \n",
    "#print(enroll_1314.duplicated('student_id').sum()),\n",
    "#print(enroll_1415.duplicated('student_id').sum()), \n",
    "#print(enroll_1516.duplicated('student_id').sum()),\n",
    "#print(enroll_1617.duplicated('student_id').sum()),\n",
    "#print(enroll_1718.duplicated('student_id').sum()),\n",
    "#print(enroll_1819.duplicated('student_id').sum()),\n",
    "#print(enroll_1920.duplicated('student_id').sum())\n",
    "\n",
    "#print(enroll_final.duplicated('student_id').sum())"
   ]
  },
  {
   "cell_type": "code",
   "execution_count": 275,
   "metadata": {
    "scrolled": true
   },
   "outputs": [],
   "source": [
    "#enroll_1213.query('grade_level == \"PK\"').sum()\n",
    "#enroll_1213.query('district == \"84\"').sum()"
   ]
  },
  {
   "cell_type": "code",
   "execution_count": 276,
   "metadata": {},
   "outputs": [],
   "source": [
    "#Source: https://www.listendata.com/2019/07/how-to-filter-pandas-dataframe.html\n",
    "#Drop all PK students and D84/charter schools from the files (f1)\n",
    "\n",
    "#enroll_1213 = enroll_1213.query('grade_level != \"PK\" & district != \"84\"')\n",
    "#enroll_1314 = enroll_1314.query('grade_level != \"PK\" & district != \"84\"')\n",
    "#enroll_1415 = enroll_1415.query('grade_level != \"PK\" & district != \"84\"')\n",
    "#enroll_1516 = enroll_1516.query('grade_level != \"PK\" & district != \"84\"')\n",
    "#enroll_1617 = enroll_1617.query('grade_level != \"PK\" & district != \"84\"')\n",
    "#enroll_1718 = enroll_1718.query('grade_level != \"PK\" & district != \"84\"')\n",
    "#enroll_1819 = enroll_1819.query('grade_level != \"PK\" & district != \"84\"')\n",
    "#enroll_1920 = enroll_1920.query('grade_level != \"PK\" & district != \"84\"')\n",
    "\n",
    "enroll_final = enroll_final.query('grade_level != \"PK\" & district != \"84\"')"
   ]
  },
  {
   "cell_type": "code",
   "execution_count": 277,
   "metadata": {},
   "outputs": [
    {
     "data": {
      "text/plain": [
       "(7394663, 40)"
      ]
     },
     "execution_count": 277,
     "metadata": {},
     "output_type": "execute_result"
    }
   ],
   "source": [
    "enroll_final.shape"
   ]
  },
  {
   "cell_type": "code",
   "execution_count": 278,
   "metadata": {},
   "outputs": [],
   "source": [
    "#Source: https://stackoverflow.com/questions/27965295/dropping-rows-from-dataframe-based-on-a-not-in-condition\n",
    "#df = df[~df['date'].isin(a)]\n",
    "\n",
    "dbn_to_remove = [\"75M501\", \"75K403\", \"75K503\", \"75M401\", \"75M444\", \"75R405\", \"75R505\", \"75Q404\", \"75Q504\", \"75X402\", \"75X502\"]\n",
    "\n",
    "#enroll_1213 = enroll_1213[~enroll_1213['dbn'].isin(dbn_to_remove)]\n",
    "#enroll_1314 = enroll_1314[~enroll_1314['dbn'].isin(dbn_to_remove)]\n",
    "#enroll_1415 = enroll_1415[~enroll_1415['dbn'].isin(dbn_to_remove)]\n",
    "#enroll_1516 = enroll_1516[~enroll_1516['dbn'].isin(dbn_to_remove)]\n",
    "#enroll_1617 = enroll_1617[~enroll_1617['dbn'].isin(dbn_to_remove)]\n",
    "#enroll_1718 = enroll_1718[~enroll_1718['dbn'].isin(dbn_to_remove)]\n",
    "#enroll_1819 = enroll_1819[~enroll_1819['dbn'].isin(dbn_to_remove)]\n",
    "#enroll_1920 = enroll_1920[~enroll_1920['dbn'].isin(dbn_to_remove)]\n",
    "\n",
    "enroll_final = enroll_final[~enroll_final['dbn'].isin(dbn_to_remove)]"
   ]
  },
  {
   "cell_type": "code",
   "execution_count": 279,
   "metadata": {},
   "outputs": [
    {
     "data": {
      "text/plain": [
       "(7390281, 40)"
      ]
     },
     "execution_count": 279,
     "metadata": {},
     "output_type": "execute_result"
    }
   ],
   "source": [
    "enroll_final.shape"
   ]
  },
  {
   "cell_type": "code",
   "execution_count": 280,
   "metadata": {
    "scrolled": true
   },
   "outputs": [
    {
     "data": {
      "image/png": "[encoded data removed]",
      "text/plain": [
       "<Figure size 432x288 with 1 Axes>"
      ]
     },
     "metadata": {
      "needs_background": "light"
     },
     "output_type": "display_data"
    }
   ],
   "source": [
    "enroll_final.groupby('year').total.sum().plot(kind='bar');"
   ]
  },
  {
   "cell_type": "code",
   "execution_count": 281,
   "metadata": {},
   "outputs": [
    {
     "data": {
      "text/plain": [
       "<AxesSubplot:title={'center':'Title'}, xlabel='year,ethnicity'>"
      ]
     },
     "execution_count": 281,
     "metadata": {},
     "output_type": "execute_result"
    },
    {
     "data": {
      "image/png": "[encoded data removed]",
      "text/plain": [
       "<Figure size 432x288 with 1 Axes>"
      ]
     },
     "metadata": {
      "needs_background": "light"
     },
     "output_type": "display_data"
    }
   ],
   "source": [
    "enroll_final.groupby('year')['ethnicity'].value_counts().plot(kind='bar', title='Title', alpha=.7 )"
   ]
  },
  {
   "cell_type": "code",
   "execution_count": 282,
   "metadata": {},
   "outputs": [],
   "source": [
    "#enroll_final.plot(x = 'black', y='swd', kind='scatter');"
   ]
  },
  {
   "cell_type": "code",
   "execution_count": 283,
   "metadata": {
    "scrolled": true
   },
   "outputs": [
    {
     "data": {
      "image/png": "[encoded data removed]",
      "text/plain": [
       "<Figure size 432x288 with 1 Axes>"
      ]
     },
     "metadata": {
      "needs_background": "light"
     },
     "output_type": "display_data"
    }
   ],
   "source": [
    "enroll_final.groupby(['year', 'ethnicity']).total.sum().plot(kind='bar', alpha=0.7);"
   ]
  },
  {
   "cell_type": "code",
   "execution_count": 284,
   "metadata": {},
   "outputs": [
    {
     "data": {
      "text/plain": [
       "year       ethnicity\n",
       "2012-2013  Asian        16.071474\n",
       "           Black        27.231864\n",
       "           Hispanic     40.492114\n",
       "           Other         1.285911\n",
       "           White        14.918637\n",
       "2013-2014  Asian        16.361045\n",
       "           Black        26.225259\n",
       "           Hispanic     40.695318\n",
       "           Other         1.698277\n",
       "           White        15.020101\n",
       "2014-2015  Asian        16.862484\n",
       "           Black        25.062279\n",
       "           Hispanic     40.837333\n",
       "           Other         1.826927\n",
       "           White        15.410977\n",
       "2015-2016  Asian        16.958703\n",
       "           Black        24.391254\n",
       "           Hispanic     40.965429\n",
       "           Other         2.075327\n",
       "           White        15.609287\n",
       "2016-2017  Asian        17.189132\n",
       "           Black        23.795013\n",
       "           Hispanic     41.066003\n",
       "           Other         2.235662\n",
       "           White        15.714190\n",
       "2017-2018  Asian        17.586786\n",
       "           Black        23.059293\n",
       "           Hispanic     41.076827\n",
       "           Other         2.420375\n",
       "           White        15.856719\n",
       "2018-2019  Asian        17.898623\n",
       "           Black        22.385683\n",
       "           Hispanic     41.039811\n",
       "           Other         2.698173\n",
       "           White        15.977710\n",
       "2019-2020  Asian        18.217519\n",
       "           Black        21.625946\n",
       "           Hispanic     41.231100\n",
       "           Other         2.778768\n",
       "           White        16.146668\n",
       "Name: borough, dtype: float64"
      ]
     },
     "execution_count": 284,
     "metadata": {},
     "output_type": "execute_result"
    }
   ],
   "source": [
    "counts = enroll_final.groupby(['year', 'ethnicity']).borough.count()\n",
    "totals = enroll_final.groupby(['year']).borough.count()\n",
    "race_enroll_percents = (counts/totals) * 100\n",
    "race_enroll_percents"
   ]
  },
  {
   "cell_type": "code",
   "execution_count": 285,
   "metadata": {
    "scrolled": true
   },
   "outputs": [
    {
     "data": {
      "image/png": "[encoded data removed]",
      "text/plain": [
       "<Figure size 1080x360 with 1 Axes>"
      ]
     },
     "metadata": {
      "needs_background": "light"
     },
     "output_type": "display_data"
    }
   ],
   "source": [
    "#Source: https://pythonbasics.org/matplotlib-bar-chart/\n",
    "#Source: https://stackoverflow.com/questions/10998621/rotate-axis-text-in-python-matplotlib\n",
    "#Source: https://stackoverflow.com/questions/40575067/matplotlib-bar-chart-space-out-bars/40575741\n",
    "race_enroll_percents.plot(kind='bar', title='Percent of Enrollment', alpha=0.7, figsize=(15, 5), align='edge', width=0.8)\n",
    "plt.xlabel(\"Year/Race\", fontsize=18)\n",
    "plt.ylabel(\"Percent\", fontsize=18)\n",
    "plt.xticks(rotation=90)\n",
    "plt.show()"
   ]
  },
  {
   "cell_type": "code",
   "execution_count": 286,
   "metadata": {},
   "outputs": [
    {
     "data": {
      "text/plain": [
       "year       swd\n",
       "2012-2013  0      81.887821\n",
       "           1      18.112179\n",
       "2013-2014  0      80.635412\n",
       "           1      19.364588\n",
       "2014-2015  0      80.602722\n",
       "           1      19.397278\n",
       "2015-2016  0      79.484412\n",
       "           1      20.515588\n",
       "2016-2017  0      78.732609\n",
       "           1      21.267391\n",
       "2017-2018  0      78.188985\n",
       "           1      21.811015\n",
       "2018-2019  0      78.570541\n",
       "           1      21.429459\n",
       "2019-2020  0      78.141907\n",
       "           1      21.858093\n",
       "Name: borough, dtype: float64"
      ]
     },
     "execution_count": 286,
     "metadata": {},
     "output_type": "execute_result"
    }
   ],
   "source": [
    "counts = enroll_final.groupby(['year', 'swd']).borough.count()\n",
    "totals = enroll_final.groupby(['year']).borough.count()\n",
    "swd_enroll_percents = (counts/totals) * 100\n",
    "swd_enroll_percents"
   ]
  },
  {
   "cell_type": "code",
   "execution_count": 287,
   "metadata": {
    "scrolled": true
   },
   "outputs": [
    {
     "data": {
      "image/png": "[encoded data removed]",
      "text/plain": [
       "<Figure size 1080x360 with 1 Axes>"
      ]
     },
     "metadata": {
      "needs_background": "light"
     },
     "output_type": "display_data"
    }
   ],
   "source": [
    "swd_enroll_percents.plot(kind='bar', title='Percent of Enrollment', alpha=0.7, figsize=(15, 5), align='edge', width=0.8)\n",
    "plt.xlabel(\"Year/Race\", fontsize=18)\n",
    "plt.ylabel(\"Percent\", fontsize=18)\n",
    "plt.xticks(rotation=90)\n",
    "plt.show()"
   ]
  },
  {
   "cell_type": "code",
   "execution_count": 288,
   "metadata": {},
   "outputs": [
    {
     "data": {
      "text/plain": [
       "year       ethnicity  swd\n",
       "2012-2013  Asian      0      14.906121\n",
       "                      1       1.165353\n",
       "           Black      0      21.515815\n",
       "                      1       5.716049\n",
       "           Hispanic   0      31.932963\n",
       "                               ...    \n",
       "2019-2020  Hispanic   1      10.795048\n",
       "           Other      0       2.303763\n",
       "                      1       0.475005\n",
       "           White      0      13.195539\n",
       "                      1       2.951129\n",
       "Length: 80, dtype: float64"
      ]
     },
     "execution_count": 288,
     "metadata": {},
     "output_type": "execute_result"
    }
   ],
   "source": [
    "counts = enroll_final.groupby(['year', 'ethnicity', 'swd']).ethnicity.count()\n",
    "totals = enroll_final.groupby(['year']).borough.count()\n",
    "race_swd_enroll_percents = (counts/totals) * 100\n",
    "race_swd_enroll_percents"
   ]
  },
  {
   "cell_type": "code",
   "execution_count": 289,
   "metadata": {},
   "outputs": [
    {
     "data": {
      "image/png": "[encoded data removed]",
      "text/plain": [
       "<Figure size 1080x360 with 1 Axes>"
      ]
     },
     "metadata": {
      "needs_background": "light"
     },
     "output_type": "display_data"
    }
   ],
   "source": [
    "race_swd_enroll_percents.plot(kind='bar', title='Percent of Enrollment', alpha=0.7, figsize=(15, 5), align='edge', width=0.8)\n",
    "plt.xlabel(\"Year/Race\", fontsize=18)\n",
    "plt.ylabel(\"Percent\", fontsize=18)\n",
    "plt.xticks(rotation=90)\n",
    "plt.legend()\n",
    "plt.show()"
   ]
  },
  {
   "cell_type": "code",
   "execution_count": 290,
   "metadata": {},
   "outputs": [],
   "source": [
    "#enroll_final.SibSp[survived].value_counts().plot(kind='bar', alpha=0.5, color='blue', label='survived')\n",
    "#df.SibSp[died].value_counts().plot(kind='bar', alpha=0.5, color='orange', label='died')\n",
    "#Plt.legend();\n"
   ]
  },
  {
   "cell_type": "code",
   "execution_count": 291,
   "metadata": {
    "scrolled": false
   },
   "outputs": [
    {
     "name": "stdout",
     "output_type": "stream",
     "text": [
      "                  total                                                    \\\n",
      "year          2012-2013 2013-2014 2014-2015 2015-2016 2016-2017 2017-2018   \n",
      "borough                                                                     \n",
      "Bronx            197109    195625    193964    193245    191577    189068   \n",
      "Brooklyn         275233    270707    266553    267263    266756    264501   \n",
      "Manhattan        139223    136091    135515    137743    137243    136071   \n",
      "Queens           266231    263838    264432    268075    270032    269971   \n",
      "Staten Island     57028     55850     56376     58444     59174     59255   \n",
      "\n",
      "                                   \n",
      "year          2018-2019 2019-2020  \n",
      "borough                            \n",
      "Bronx            190440    182465  \n",
      "Brooklyn         268711    264514  \n",
      "Manhattan        138585    137651  \n",
      "Queens           275338    270545  \n",
      "Staten Island     60076     59763  \n"
     ]
    }
   ],
   "source": [
    "#Pivot enroll data to get summary\n",
    "enroll_pivot = pd.DataFrame(enroll_final, columns= ['borough','year','ethnicity', 'sex', 'swd', 'grade_cat', 'total'])\n",
    "\n",
    "enroll_total = enroll_pivot.pivot_table(index=['borough'], columns=['year'], values=['total'], aggfunc='sum', fill_value=0)\n",
    "print(enroll_total)"
   ]
  },
  {
   "cell_type": "code",
   "execution_count": 292,
   "metadata": {},
   "outputs": [
    {
     "name": "stdout",
     "output_type": "stream",
     "text": [
      "                  total                                                  \\\n",
      "year          2012-2013                               2013-2014           \n",
      "ethnicity         Asian   Black Hispanic Other  White     Asian   Black   \n",
      "borough                                                                   \n",
      "Bronx              9038   55951   122112  1886   8122      8878   54565   \n",
      "Brooklyn          42938  107117    77990  2795  44393     44345  100422   \n",
      "Manhattan         18774   29786    65492  2526  22645     18584   28194   \n",
      "Queens            74855   53720    98426  4149  35081     74538   50996   \n",
      "Staten Island      4635    7996    14510   665  29222      4522    7649   \n",
      "\n",
      "                                     ...                                  \\\n",
      "year                                 ... 2018-2019                         \n",
      "ethnicity     Hispanic Other  White  ...     Asian  Black Hispanic Other   \n",
      "borough                              ...                                   \n",
      "Bronx           121479  2488   8215  ...     10249  47879   120271  2987   \n",
      "Brooklyn         77272  3702  44966  ...     51190  82393    77649  5997   \n",
      "Manhattan        63053  3148  23112  ...     19321  25269    61343  5459   \n",
      "Queens           98567  5486  34251  ...     79717  45545   106405  9247   \n",
      "Staten Island    14885   836  27958  ...      6544   7806    17295  1488   \n",
      "\n",
      "                                                             \n",
      "year                 2019-2020                               \n",
      "ethnicity      White     Asian  Black Hispanic Other  White  \n",
      "borough                                                      \n",
      "Bronx           9054     10063  45024   115820  2862   8696  \n",
      "Brooklyn       51482     51578  77774    77390  6091  51681  \n",
      "Manhattan      27193     19236  24569    60783  5545  27518  \n",
      "Queens         34424     78668  42951   105816  9517  33593  \n",
      "Staten Island  26943      7134   7546    17430  1409  26244  \n",
      "\n",
      "[5 rows x 40 columns]\n"
     ]
    }
   ],
   "source": [
    "race_enroll_pivot = enroll_pivot.pivot_table(index=['borough'], columns=['year','ethnicity'], values=['total'], aggfunc='sum', fill_value=0)\n",
    "print(race_enroll_pivot)"
   ]
  },
  {
   "cell_type": "code",
   "execution_count": 293,
   "metadata": {},
   "outputs": [
    {
     "name": "stdout",
     "output_type": "stream",
     "text": [
      "                  total                                                     \\\n",
      "year          2012-2013        2013-2014        2014-2015        2015-2016   \n",
      "swd                   0      1         0      1         0      1         0   \n",
      "borough                                                                      \n",
      "Bronx            155191  41918    150675  44950    149241  44723    145882   \n",
      "Brooklyn         226975  48258    219759  50948    216427  50126    214259   \n",
      "Manhattan        114617  24606    110238  25853    109882  25633    110094   \n",
      "Queens           224902  41329    220718  43120    220866  43566    221115   \n",
      "Staten Island     43822  13206     42158  13692     42582  13794     43698   \n",
      "\n",
      "                                                                         \\\n",
      "year                 2016-2017        2017-2018        2018-2019          \n",
      "swd                1         0      1         0      1         0      1   \n",
      "borough                                                                   \n",
      "Bronx          47363    143047  48530    140134  48934    142351  48089   \n",
      "Brooklyn       53004    211837  54919    208583  55918    212939  55772   \n",
      "Manhattan      27649    108491  28752    106615  29456    108900  29685   \n",
      "Queens         46960    221099  48933    219877  50094    225110  50228   \n",
      "Staten Island  14746     43631  15543     43243  16012     43881  16195   \n",
      "\n",
      "                                \n",
      "year          2019-2020         \n",
      "swd                   0      1  \n",
      "borough                         \n",
      "Bronx            135363  47102  \n",
      "Brooklyn         208550  55964  \n",
      "Manhattan        107289  30362  \n",
      "Queens           220226  50319  \n",
      "Staten Island     43522  16241  \n"
     ]
    }
   ],
   "source": [
    "swd_enroll_pivot = enroll_pivot.pivot_table(index=['borough'], columns=['year','swd'], values=['total'], aggfunc='sum', fill_value=0)\n",
    "print(swd_enroll_pivot)"
   ]
  },
  {
   "cell_type": "code",
   "execution_count": 294,
   "metadata": {},
   "outputs": [],
   "source": [
    "#df.to_excel(r'Path to store the exported excel file\\File Name.xlsx', sheet_name='Your sheet name', index = False)"
   ]
  },
  {
   "cell_type": "code",
   "execution_count": 295,
   "metadata": {
    "scrolled": false
   },
   "outputs": [
    {
     "name": "stdout",
     "output_type": "stream",
     "text": [
      "                  total                                                        \\\n",
      "year          2012-2013                                                         \n",
      "ethnicity         Asian        Black        Hispanic        Other       White   \n",
      "swd                   0     1      0      1        0      1     0    1      0   \n",
      "borough                                                                         \n",
      "Bronx              8402   636  43508  12443    94959  27153  1527  359   6795   \n",
      "Brooklyn          39982  2956  86112  21005    60747  17243  2345  450  37789   \n",
      "Manhattan         17359  1415  23106   6680    52163  13329  2132  394  19857   \n",
      "Queens            69315  5540  42802  10918    80148  18278  3593  556  29044   \n",
      "Staten Island      4288   347   5607   2389    10500   4010   525  140  22902   \n",
      "\n",
      "                     ...                                                      \\\n",
      "year                 ... 2019-2020                                             \n",
      "ethnicity            ...     Asian        Black        Hispanic        Other   \n",
      "swd               1  ...         0     1      0      1        0      1     0   \n",
      "borough              ...                                                       \n",
      "Bronx          1327  ...      9100   963  32282  12742    84418  31402  2278   \n",
      "Brooklyn       6604  ...     46634  4944  57268  20506    56402  20988  5041   \n",
      "Manhattan      2788  ...     17425  1811  17196   7373    44558  16225  4699   \n",
      "Queens         6037  ...     71200  7468  32375  10576    81714  24102  8050   \n",
      "Staten Island  6320  ...      6330   804   4860   2686    11379   6051  1010   \n",
      "\n",
      "                                  \n",
      "year                              \n",
      "ethnicity            White        \n",
      "swd               1      0     1  \n",
      "borough                           \n",
      "Bronx           584   7285  1411  \n",
      "Brooklyn       1050  43205  8476  \n",
      "Manhattan       846  23411  4107  \n",
      "Queens         1467  26887  6706  \n",
      "Staten Island   399  19943  6301  \n",
      "\n",
      "[5 rows x 80 columns]\n"
     ]
    }
   ],
   "source": [
    "race_swd_enroll_pivot = enroll_pivot.pivot_table(index=['borough'], columns=['year','ethnicity', 'swd'], values=['total'], aggfunc='sum', fill_value=0)\n",
    "print(race_swd_enroll_pivot)"
   ]
  },
  {
   "cell_type": "code",
   "execution_count": 296,
   "metadata": {},
   "outputs": [
    {
     "name": "stdout",
     "output_type": "stream",
     "text": [
      "                  total                                                \\\n",
      "year          2012-2013                                                 \n",
      "ethnicity         Asian                     Black                       \n",
      "swd                   0            1            0            1          \n",
      "sex                   F      M     F     M      F      M     F      M   \n",
      "borough                                                                 \n",
      "Bronx              4024   4378   185   451  22873  20635  3853   8590   \n",
      "Brooklyn          19467  20515   941  2015  45320  40792  6969  14036   \n",
      "Manhattan          8872   8487   463   952  13129   9977  2349   4331   \n",
      "Queens            34280  35035  1672  3868  22269  20533  3515   7403   \n",
      "Staten Island      2128   2160   107   240   3057   2550   798   1591   \n",
      "\n",
      "                               ...                                         \\\n",
      "year                           ... 2019-2020                                \n",
      "ethnicity     Hispanic         ...  Hispanic        Other                   \n",
      "swd                  0         ...         1            0          1        \n",
      "sex                  F      M  ...         F      M     F     M    F    M   \n",
      "borough                        ...                                          \n",
      "Bronx            49748  45211  ...     10595  20807  1207  1071  208  376   \n",
      "Brooklyn         31773  28974  ...      7602  13386  2594  2447  360  690   \n",
      "Manhattan        28377  23786  ...      5891  10334  2560  2139  293  553   \n",
      "Queens           41288  38860  ...      8295  15807  4135  3915  473  994   \n",
      "Staten Island     5626   4874  ...      2243   3808   549   461  142  257   \n",
      "\n",
      "                                         \n",
      "year                                     \n",
      "ethnicity      White                     \n",
      "swd                0            1        \n",
      "sex                F      M     F     M  \n",
      "borough                                  \n",
      "Bronx           3580   3705   461   950  \n",
      "Brooklyn       21708  21497  2768  5708  \n",
      "Manhattan      12569  10842  1337  2770  \n",
      "Queens         13736  13151  2107  4599  \n",
      "Staten Island  10347   9596  2133  4168  \n",
      "\n",
      "[5 rows x 160 columns]\n"
     ]
    }
   ],
   "source": [
    "race_swd_gender_enroll_pivot = enroll_pivot.pivot_table(index=['borough'], columns=['year','ethnicity', 'swd', 'sex'], values=['total'], aggfunc='sum', fill_value=0)\n",
    "print(race_swd_gender_enroll_pivot)"
   ]
  },
  {
   "cell_type": "code",
   "execution_count": 297,
   "metadata": {
    "scrolled": true
   },
   "outputs": [],
   "source": [
    "#df.groupby('Sex')['Pclass'].value_counts\n",
    "\n",
    "#race_enroll_1213 = enroll_1213.groupby(['borough', 'ethnicity', ])['total'].sum()\n",
    "#race_enroll_1213"
   ]
  },
  {
   "cell_type": "code",
   "execution_count": 298,
   "metadata": {},
   "outputs": [],
   "source": [
    "########SUSP Data"
   ]
  },
  {
   "cell_type": "code",
   "execution_count": 299,
   "metadata": {},
   "outputs": [],
   "source": [
    "#Import suspension data.\n",
    "suspmaster = pd.ExcelFile(r\"/Users/holly/Desktop/nycdoe/12152020 SUSP Dispro Data.xlsx\")"
   ]
  },
  {
   "cell_type": "code",
   "execution_count": 300,
   "metadata": {},
   "outputs": [],
   "source": [
    "#Read data from each tab.\n",
    "#schools = suspmaster.parse('schools')\n",
    "susp_1920 = suspmaster.parse('1920')\n",
    "susp_1819 = suspmaster.parse('1819')\n",
    "susp_1718 = suspmaster.parse('1718')\n",
    "susp_1617 = suspmaster.parse('1617')\n",
    "susp_1516 = suspmaster.parse('1516')\n",
    "susp_1415 = suspmaster.parse('1415')\n",
    "susp_1314 = suspmaster.parse('1314')\n",
    "susp_1213 = suspmaster.parse('1213')"
   ]
  },
  {
   "cell_type": "code",
   "execution_count": 301,
   "metadata": {},
   "outputs": [],
   "source": [
    "#enroll_1214 = enroll_1213.append(enroll_1314)\n",
    "\n",
    "susp_1214 = susp_1213.append(susp_1314)\n",
    "susp_1215 = susp_1214.append(susp_1415)\n",
    "susp_1216 = susp_1215.append(susp_1516)\n",
    "susp_1217 = susp_1216.append(susp_1617)\n",
    "susp_1218 = susp_1217.append(susp_1718)\n",
    "susp_1219 = susp_1218.append(susp_1819)\n",
    "susp_final = susp_1219.append(susp_1920)"
   ]
  },
  {
   "cell_type": "code",
   "execution_count": 302,
   "metadata": {},
   "outputs": [
    {
     "data": {
      "text/plain": [
       "(312160, 19)"
      ]
     },
     "execution_count": 302,
     "metadata": {},
     "output_type": "execute_result"
    }
   ],
   "source": [
    "susp_final.shape"
   ]
  },
  {
   "cell_type": "code",
   "execution_count": 303,
   "metadata": {
    "scrolled": true
   },
   "outputs": [],
   "source": [
    "#susp_final.head()"
   ]
  },
  {
   "cell_type": "code",
   "execution_count": 304,
   "metadata": {},
   "outputs": [],
   "source": [
    "#Source: https://stackoverflow.com/questions/11346283/renaming-columns-in-pandas\n",
    "susp_final = susp_final.rename(columns={'Grade': 'grade_level', 'Ethnicity': 'race'})"
   ]
  },
  {
   "cell_type": "code",
   "execution_count": 305,
   "metadata": {},
   "outputs": [],
   "source": [
    "#susp_final.head()"
   ]
  },
  {
   "cell_type": "code",
   "execution_count": 306,
   "metadata": {},
   "outputs": [],
   "source": [
    "def grade_cat (row):\n",
    "    if row['grade_level'] == \"K\":\n",
    "      return 'ES'\n",
    "    if row['grade_level'] == \"1\":\n",
    "      return 'ES'\n",
    "    if row['grade_level'] == \"2\":\n",
    "      return 'ES'\n",
    "    if row['grade_level'] == \"3\":\n",
    "      return 'ES'\n",
    "    if row['grade_level'] == \"4\":\n",
    "      return 'ES'\n",
    "    if row['grade_level'] == \"5\":\n",
    "      return 'ES'\n",
    "    if row['grade_level'] == \"6\":\n",
    "      return 'MS'\n",
    "    if row['grade_level'] == \"7\":\n",
    "      return 'MS'\n",
    "    if row['grade_level'] == \"8\":\n",
    "      return 'MS'\n",
    "    if row['grade_level'] == \"9\":\n",
    "      return 'HS'\n",
    "    if row['grade_level'] == \"10\":\n",
    "      return 'HS'\n",
    "    if row['grade_level'] == \"11\":\n",
    "      return 'HS'\n",
    "    if row['grade_level'] == \"12\":\n",
    "      return 'HS'\n",
    "    return 'Other'"
   ]
  },
  {
   "cell_type": "code",
   "execution_count": 307,
   "metadata": {},
   "outputs": [
    {
     "data": {
      "text/plain": [
       "0           HS\n",
       "1           HS\n",
       "2           HS\n",
       "3           HS\n",
       "4           HS\n",
       "         ...  \n",
       "18210    Other\n",
       "18211    Other\n",
       "18212       HS\n",
       "18213       HS\n",
       "18214       HS\n",
       "Length: 312160, dtype: object"
      ]
     },
     "execution_count": 307,
     "metadata": {},
     "output_type": "execute_result"
    }
   ],
   "source": [
    "#susp_final.apply (lambda row: grade_cat(row), axis=1)\n",
    "susp_final.apply (lambda row: grade_cat(row), axis=1)"
   ]
  },
  {
   "cell_type": "code",
   "execution_count": 308,
   "metadata": {},
   "outputs": [],
   "source": [
    "susp_final['grade_cat'] = susp_final.apply (lambda row: grade_cat(row), axis=1)"
   ]
  },
  {
   "cell_type": "code",
   "execution_count": 309,
   "metadata": {},
   "outputs": [],
   "source": [
    "def ethnicity (row):\n",
    "    if row['race'] == \"Black\":\n",
    "      return 'Black'\n",
    "    if row['race'] == \"Hispanic\":\n",
    "      return 'Hispanic'\n",
    "    if row['race'] == \"Asian\":\n",
    "      return 'Asian'\n",
    "    if row['race'] == \"White\":\n",
    "      return 'White'\n",
    "    return 'Other'"
   ]
  },
  {
   "cell_type": "code",
   "execution_count": 310,
   "metadata": {},
   "outputs": [
    {
     "data": {
      "text/plain": [
       "0           Black\n",
       "1           Black\n",
       "2           Black\n",
       "3        Hispanic\n",
       "4        Hispanic\n",
       "           ...   \n",
       "18210       Black\n",
       "18211    Hispanic\n",
       "18212       Asian\n",
       "18213       Black\n",
       "18214       White\n",
       "Length: 312160, dtype: object"
      ]
     },
     "execution_count": 310,
     "metadata": {},
     "output_type": "execute_result"
    }
   ],
   "source": [
    "#susp_final.apply (lambda row: grade_cat(row), axis=1)\n",
    "susp_final.apply (lambda row: ethnicity(row), axis=1)"
   ]
  },
  {
   "cell_type": "code",
   "execution_count": 311,
   "metadata": {},
   "outputs": [],
   "source": [
    "susp_final['ethnicity'] = susp_final.apply (lambda row: ethnicity(row), axis=1)"
   ]
  },
  {
   "cell_type": "code",
   "execution_count": 312,
   "metadata": {},
   "outputs": [],
   "source": [
    "susp_final['total'] = 1"
   ]
  },
  {
   "cell_type": "code",
   "execution_count": 313,
   "metadata": {},
   "outputs": [
    {
     "data": {
      "text/plain": [
       "(312160, 22)"
      ]
     },
     "execution_count": 313,
     "metadata": {},
     "output_type": "execute_result"
    }
   ],
   "source": [
    "susp_final.shape"
   ]
  },
  {
   "cell_type": "code",
   "execution_count": 314,
   "metadata": {},
   "outputs": [
    {
     "data": {
      "text/html": [
       "<div>\n",
       "<style scoped>\n",
       "    .dataframe tbody tr th:only-of-type {\n",
       "        vertical-align: middle;\n",
       "    }\n",
       "\n",
       "    .dataframe tbody tr th {\n",
       "        vertical-align: top;\n",
       "    }\n",
       "\n",
       "    .dataframe thead th {\n",
       "        text-align: right;\n",
       "    }\n",
       "</style>\n",
       "<table border=\"1\" class=\"dataframe\">\n",
       "  <thead>\n",
       "    <tr style=\"text-align: right;\">\n",
       "      <th></th>\n",
       "      <th>AcademicYear</th>\n",
       "      <th>SOHO_Case</th>\n",
       "      <th>Type</th>\n",
       "      <th>Student_ID</th>\n",
       "      <th>Suspend_Days</th>\n",
       "      <th>ControlNo</th>\n",
       "      <th>Level</th>\n",
       "      <th>Code</th>\n",
       "      <th>Short Description</th>\n",
       "      <th>DBN</th>\n",
       "      <th>...</th>\n",
       "      <th>grade_level</th>\n",
       "      <th>SWD</th>\n",
       "      <th>ELL</th>\n",
       "      <th>race</th>\n",
       "      <th>Location_Category</th>\n",
       "      <th>Administrative_District</th>\n",
       "      <th>Borough</th>\n",
       "      <th>grade_cat</th>\n",
       "      <th>ethnicity</th>\n",
       "      <th>total</th>\n",
       "    </tr>\n",
       "  </thead>\n",
       "  <tbody>\n",
       "    <tr>\n",
       "      <th>0</th>\n",
       "      <td>2012-2013</td>\n",
       "      <td>13-32-30670</td>\n",
       "      <td>P</td>\n",
       "      <td>264102542</td>\n",
       "      <td>4.0</td>\n",
       "      <td>17K467-021113-0006</td>\n",
       "      <td>4</td>\n",
       "      <td>B44</td>\n",
       "      <td>Taking Property Without Authorization</td>\n",
       "      <td>17K467</td>\n",
       "      <td>...</td>\n",
       "      <td>12</td>\n",
       "      <td>Y</td>\n",
       "      <td>N</td>\n",
       "      <td>Black</td>\n",
       "      <td>High school</td>\n",
       "      <td>17</td>\n",
       "      <td>K</td>\n",
       "      <td>HS</td>\n",
       "      <td>Black</td>\n",
       "      <td>1</td>\n",
       "    </tr>\n",
       "    <tr>\n",
       "      <th>1</th>\n",
       "      <td>2012-2013</td>\n",
       "      <td>13-32-30669</td>\n",
       "      <td>P</td>\n",
       "      <td>268716800</td>\n",
       "      <td>4.0</td>\n",
       "      <td>17K467-021113-0006</td>\n",
       "      <td>4</td>\n",
       "      <td>B44</td>\n",
       "      <td>Taking Property Without Authorization</td>\n",
       "      <td>17K467</td>\n",
       "      <td>...</td>\n",
       "      <td>10</td>\n",
       "      <td>N</td>\n",
       "      <td>N</td>\n",
       "      <td>Black</td>\n",
       "      <td>High school</td>\n",
       "      <td>17</td>\n",
       "      <td>K</td>\n",
       "      <td>HS</td>\n",
       "      <td>Black</td>\n",
       "      <td>1</td>\n",
       "    </tr>\n",
       "    <tr>\n",
       "      <th>2</th>\n",
       "      <td>2012-2013</td>\n",
       "      <td>13-34-43411</td>\n",
       "      <td>S</td>\n",
       "      <td>268994399</td>\n",
       "      <td>0.0</td>\n",
       "      <td>19K501-032113-0006</td>\n",
       "      <td>4</td>\n",
       "      <td>B37</td>\n",
       "      <td>Altercation and/or Physically Aggressive Behavior</td>\n",
       "      <td>19K501</td>\n",
       "      <td>...</td>\n",
       "      <td>11</td>\n",
       "      <td>N</td>\n",
       "      <td>N</td>\n",
       "      <td>Black</td>\n",
       "      <td>High school</td>\n",
       "      <td>19</td>\n",
       "      <td>K</td>\n",
       "      <td>HS</td>\n",
       "      <td>Black</td>\n",
       "      <td>1</td>\n",
       "    </tr>\n",
       "    <tr>\n",
       "      <th>3</th>\n",
       "      <td>2012-2013</td>\n",
       "      <td>13-34-21302</td>\n",
       "      <td>S</td>\n",
       "      <td>268373016</td>\n",
       "      <td>5.0</td>\n",
       "      <td>19K501-010713-0004</td>\n",
       "      <td>5</td>\n",
       "      <td>B59</td>\n",
       "      <td>Weapon Possession (Category I)</td>\n",
       "      <td>19K501</td>\n",
       "      <td>...</td>\n",
       "      <td>12</td>\n",
       "      <td>N</td>\n",
       "      <td>N</td>\n",
       "      <td>Hispanic</td>\n",
       "      <td>High school</td>\n",
       "      <td>19</td>\n",
       "      <td>K</td>\n",
       "      <td>HS</td>\n",
       "      <td>Hispanic</td>\n",
       "      <td>1</td>\n",
       "    </tr>\n",
       "    <tr>\n",
       "      <th>4</th>\n",
       "      <td>2012-2013</td>\n",
       "      <td>13-34-43407</td>\n",
       "      <td>S</td>\n",
       "      <td>264795402</td>\n",
       "      <td>6.0</td>\n",
       "      <td>19K501-032113-0006</td>\n",
       "      <td>4</td>\n",
       "      <td>B37</td>\n",
       "      <td>Altercation and/or Physically Aggressive Behavior</td>\n",
       "      <td>19K501</td>\n",
       "      <td>...</td>\n",
       "      <td>11</td>\n",
       "      <td>N</td>\n",
       "      <td>N</td>\n",
       "      <td>Hispanic</td>\n",
       "      <td>High school</td>\n",
       "      <td>19</td>\n",
       "      <td>K</td>\n",
       "      <td>HS</td>\n",
       "      <td>Hispanic</td>\n",
       "      <td>1</td>\n",
       "    </tr>\n",
       "  </tbody>\n",
       "</table>\n",
       "<p>5 rows × 22 columns</p>\n",
       "</div>"
      ],
      "text/plain": [
       "  AcademicYear    SOHO_Case Type  Student_ID  Suspend_Days  \\\n",
       "0    2012-2013  13-32-30670    P   264102542           4.0   \n",
       "1    2012-2013  13-32-30669    P   268716800           4.0   \n",
       "2    2012-2013  13-34-43411    S   268994399           0.0   \n",
       "3    2012-2013  13-34-21302    S   268373016           5.0   \n",
       "4    2012-2013  13-34-43407    S   264795402           6.0   \n",
       "\n",
       "            ControlNo  Level Code  \\\n",
       "0  17K467-021113-0006      4  B44   \n",
       "1  17K467-021113-0006      4  B44   \n",
       "2  19K501-032113-0006      4  B37   \n",
       "3  19K501-010713-0004      5  B59   \n",
       "4  19K501-032113-0006      4  B37   \n",
       "\n",
       "                                   Short Description     DBN  ... grade_level  \\\n",
       "0              Taking Property Without Authorization  17K467  ...          12   \n",
       "1              Taking Property Without Authorization  17K467  ...          10   \n",
       "2  Altercation and/or Physically Aggressive Behavior  19K501  ...          11   \n",
       "3                     Weapon Possession (Category I)  19K501  ...          12   \n",
       "4  Altercation and/or Physically Aggressive Behavior  19K501  ...          11   \n",
       "\n",
       "  SWD ELL      race Location_Category Administrative_District Borough  \\\n",
       "0   Y   N     Black       High school                      17       K   \n",
       "1   N   N     Black       High school                      17       K   \n",
       "2   N   N     Black       High school                      19       K   \n",
       "3   N   N  Hispanic       High school                      19       K   \n",
       "4   N   N  Hispanic       High school                      19       K   \n",
       "\n",
       "   grade_cat ethnicity total  \n",
       "0         HS     Black     1  \n",
       "1         HS     Black     1  \n",
       "2         HS     Black     1  \n",
       "3         HS  Hispanic     1  \n",
       "4         HS  Hispanic     1  \n",
       "\n",
       "[5 rows x 22 columns]"
      ]
     },
     "execution_count": 314,
     "metadata": {},
     "output_type": "execute_result"
    }
   ],
   "source": [
    "susp_final.head()"
   ]
  },
  {
   "cell_type": "code",
   "execution_count": 315,
   "metadata": {},
   "outputs": [
    {
     "data": {
      "text/plain": [
       "AcademicYear  ethnicity\n",
       "2012-2013     Asian         3.650987\n",
       "              Black        52.800898\n",
       "              Hispanic     35.894510\n",
       "              Other         0.907136\n",
       "              White         6.746470\n",
       "2013-2014     Asian         3.594124\n",
       "              Black        53.055846\n",
       "              Hispanic     35.774895\n",
       "              Other         0.904605\n",
       "              White         6.670529\n",
       "2014-2015     Asian         3.780307\n",
       "              Black        51.691839\n",
       "              Hispanic     35.777350\n",
       "              Other         1.342267\n",
       "              White         7.408237\n",
       "2015-2016     Asian         4.066725\n",
       "              Black        49.613515\n",
       "              Hispanic     36.839589\n",
       "              Other         1.492815\n",
       "              White         7.987356\n",
       "2016-2017     Asian         4.756769\n",
       "              Black        46.912074\n",
       "              Hispanic     38.556508\n",
       "              Other         1.640461\n",
       "              White         8.134189\n",
       "2017-2018     Asian         4.889822\n",
       "              Black        45.721065\n",
       "              Hispanic     39.402204\n",
       "              Other         1.805389\n",
       "              White         8.181521\n",
       "2018-2019     Asian         5.469345\n",
       "              Black        44.757782\n",
       "              Hispanic     39.071980\n",
       "              Other         1.881040\n",
       "              White         8.819853\n",
       "2019-2020     Asian         5.528411\n",
       "              Black        43.272029\n",
       "              Hispanic     40.021960\n",
       "              Other         2.042273\n",
       "              White         9.135328\n",
       "Name: ethnicity, dtype: float64"
      ]
     },
     "execution_count": 315,
     "metadata": {},
     "output_type": "execute_result"
    }
   ],
   "source": [
    "#susp_by_year = susp_final.groupby(['AcademicYear', 'ethnicity'])['total'].sum( )\n",
    "#susp_totals = pd.DataFrame(susp_by_year) \n",
    "\n",
    "\n",
    "susp_counts = susp_final.groupby(['AcademicYear', 'ethnicity']).ethnicity.count()\n",
    "susp_totals = susp_final.groupby(['AcademicYear']).ethnicity.count()\n",
    "race_susp_percents = (susp_counts/susp_totals) * 100\n",
    "race_susp_percents"
   ]
  },
  {
   "cell_type": "code",
   "execution_count": 316,
   "metadata": {
    "scrolled": true
   },
   "outputs": [
    {
     "data": {
      "image/png": "[encoded data removed]",
      "text/plain": [
       "<Figure size 1080x360 with 1 Axes>"
      ]
     },
     "metadata": {
      "needs_background": "light"
     },
     "output_type": "display_data"
    }
   ],
   "source": [
    "#labels = ['Amy', 'Rob', 'Dimitri', 'Sarah', 'Brian']\n",
    "#values = [60, 56, 63, 75, 48]\n",
    "\n",
    "# Change the bar colors here\n",
    "#plt.bar(labels, values, color=['red', 'blue', 'purple', 'green', 'lavender'])\n",
    "\n",
    "#labels = ['Asian', 'Black', 'Hispanic', 'Other', 'White']\n",
    "#values = [race_susp_percents]\n",
    "#color = list('rgbkymc')\n",
    "\n",
    "race_susp_percents.plot(kind='bar', title='Percent of Suspensions', alpha=0.5, figsize=(15, 5), align='edge', width=0.5)\n",
    "#plt.bar(labels, values, color=['red', 'blue', 'purple', 'green', 'lavender'])\n",
    "\n",
    "plt.xlabel(\"Year/Race\", fontsize=18)\n",
    "plt.ylabel(\"Percent\", fontsize=18)\n",
    "plt.xticks(rotation=90)\n",
    "plt.legend()\n",
    "plt.show()"
   ]
  },
  {
   "cell_type": "code",
   "execution_count": 317,
   "metadata": {},
   "outputs": [
    {
     "data": {
      "text/plain": [
       "AcademicYear  SWD\n",
       "2012-2013     N      65.861779\n",
       "              Y      34.121388\n",
       "              y       0.016833\n",
       "2013-2014     N      63.942883\n",
       "              Y      36.057117\n",
       "2014-2015     N      61.762201\n",
       "              Y      38.237799\n",
       "2015-2016     N      61.417908\n",
       "              Y      38.582092\n",
       "2016-2017     N      61.094397\n",
       "              Y      38.905603\n",
       "2017-2018     N      59.937820\n",
       "              Y      40.062180\n",
       "2018-2019     N      60.312186\n",
       "              Y      39.687814\n",
       "2019-2020     N      59.533352\n",
       "              Y      40.466648\n",
       "Name: ethnicity, dtype: float64"
      ]
     },
     "execution_count": 317,
     "metadata": {},
     "output_type": "execute_result"
    }
   ],
   "source": [
    "susp_counts = susp_final.groupby(['AcademicYear', 'SWD']).ethnicity.count()\n",
    "susp_totals = susp_final.groupby(['AcademicYear']).ethnicity.count()\n",
    "swd_susp_percents = (susp_counts/susp_totals) * 100\n",
    "swd_susp_percents"
   ]
  },
  {
   "cell_type": "code",
   "execution_count": 318,
   "metadata": {},
   "outputs": [
    {
     "data": {
      "text/plain": [
       "AcademicYear  ethnicity  SWD\n",
       "2012-2013     Asian      N       2.983260\n",
       "                         Y       0.667727\n",
       "              Black      N      35.249228\n",
       "                         Y      17.551669\n",
       "              Hispanic   N      22.695221\n",
       "                                  ...    \n",
       "2019-2020     Hispanic   Y      17.287949\n",
       "              Other      N       1.328575\n",
       "                         Y       0.713698\n",
       "              White      N       5.500961\n",
       "                         Y       3.634367\n",
       "Name: ethnicity, Length: 81, dtype: float64"
      ]
     },
     "execution_count": 318,
     "metadata": {},
     "output_type": "execute_result"
    }
   ],
   "source": [
    "susp_counts = susp_final.groupby(['AcademicYear', 'ethnicity', 'SWD']).ethnicity.count()\n",
    "susp_totals = susp_final.groupby(['AcademicYear']).ethnicity.count()\n",
    "race_swd_susp_percents = (susp_counts/susp_totals) * 100\n",
    "race_swd_susp_percents"
   ]
  },
  {
   "cell_type": "code",
   "execution_count": 319,
   "metadata": {},
   "outputs": [
    {
     "name": "stdout",
     "output_type": "stream",
     "text": [
      "             Student_ID                                                    \\\n",
      "AcademicYear  2012-2013 2013-2014 2014-2015 2015-2016 2016-2017 2017-2018   \n",
      "Borough                                                                     \n",
      "K                 11246     11122      9216      7998      7379      7613   \n",
      "M                  5341      5326      4736      4286      3859      3968   \n",
      "O                     4        14         9        25        29        16   \n",
      "Q                  8357      7957      7014      6112      5833      6037   \n",
      "R                  2127      2020      1996      1753      1702      1617   \n",
      "X                  8764      8709      7324      6407      6486      6853   \n",
      "\n",
      "                                  \n",
      "AcademicYear 2018-2019 2019-2020  \n",
      "Borough                           \n",
      "K                 7120      4194  \n",
      "M                 3810      2292  \n",
      "O                   23        14  \n",
      "Q                 5284      3215  \n",
      "R                 1566      1174  \n",
      "X                 5827      3363  \n"
     ]
    }
   ],
   "source": [
    "#Pivot susp data to get summary\n",
    "susp_pivot = pd.DataFrame(susp_final, columns= ['Borough','AcademicYear','ethnicity', 'Gender', 'SWD', 'grade_cat', 'total', 'Student_ID'])\n",
    "\n",
    "susp_totals = susp_pivot.pivot_table(index=['Borough'], columns=['AcademicYear'], values=['Student_ID'], aggfunc='nunique', fill_value=0)\n",
    "print(susp_totals)\n",
    "\n"
   ]
  },
  {
   "cell_type": "code",
   "execution_count": 320,
   "metadata": {
    "scrolled": true
   },
   "outputs": [
    {
     "name": "stdout",
     "output_type": "stream",
     "text": [
      "             Student_ID                                                      \\\n",
      "AcademicYear  2012-2013                            2013-2014                  \n",
      "ethnicity         Asian Black Hispanic Other White     Asian Black Hispanic   \n",
      "Borough                                                                       \n",
      "K                   362  7679     2368    83   754       376  7543     2354   \n",
      "M                   163  2415     2470    71   222       129  2446     2455   \n",
      "O                     0     3        1     0     0         0     9        5   \n",
      "Q                   873  3762     2964    92   666       832  3516     2815   \n",
      "R                    48   770      554    24   731        48   733      555   \n",
      "X                    96  3589     4850    55   174        90  3587     4810   \n",
      "\n",
      "                          ...                                                 \\\n",
      "AcademicYear              ... 2018-2019                            2019-2020   \n",
      "ethnicity    Other White  ...     Asian Black Hispanic Other White     Asian   \n",
      "Borough                   ...                                                  \n",
      "K               95   754  ...       478  3931     1860   117   734       279   \n",
      "M               79   217  ...       132  1537     1763   104   274        88   \n",
      "O                0     0  ...         0    18        2     0     3         0   \n",
      "Q               90   704  ...       686  1857     2103   143   495       393   \n",
      "R               23   661  ...        55   507      464    36   504        45   \n",
      "X               53   169  ...        94  2302     3206    77   148        59   \n",
      "\n",
      "                                         \n",
      "AcademicYear                             \n",
      "ethnicity    Black Hispanic Other White  \n",
      "Borough                                  \n",
      "K             2240     1200    77   398  \n",
      "M              940     1028    64   172  \n",
      "O                7        4     1     2  \n",
      "Q             1124     1290    89   319  \n",
      "R              393      384    27   325  \n",
      "X             1343     1849    32    80  \n",
      "\n",
      "[6 rows x 40 columns]\n"
     ]
    }
   ],
   "source": [
    "race_susp_pivot = susp_pivot.pivot_table(index=['Borough'], columns=['AcademicYear','ethnicity'], values=['Student_ID'], aggfunc='nunique', fill_value=0)\n",
    "print(race_susp_pivot)"
   ]
  },
  {
   "cell_type": "code",
   "execution_count": 321,
   "metadata": {},
   "outputs": [
    {
     "name": "stdout",
     "output_type": "stream",
     "text": [
      "             Student_ID                                                     \\\n",
      "AcademicYear  2012-2013          2013-2014       2014-2015       2015-2016   \n",
      "SWD                   N     Y  y         N     Y         N     Y         N   \n",
      "Borough                                                                      \n",
      "K                  7918  3326  2      7694  3428      6216  3000      5293   \n",
      "M                  3601  1740  0      3524  1802      3120  1616      2832   \n",
      "O                     0     4  0         7     7         0     9         1   \n",
      "Q                  6015  2342  0      5549  2408      4801  2213      4151   \n",
      "R                  1258   869  0      1134   886      1095   901       975   \n",
      "X                  5893  2871  0      5744  2965      4656  2668      4070   \n",
      "\n",
      "                                                                              \\\n",
      "AcademicYear       2016-2017       2017-2018       2018-2019       2019-2020   \n",
      "SWD              Y         N     Y         N     Y         N     Y         N   \n",
      "Borough                                                                        \n",
      "K             2705      4857  2522      4965  2648      4734  2386      2656   \n",
      "M             1454      2513  1346      2475  1493      2381  1429      1389   \n",
      "O               24         0    29         0    16         0    23         0   \n",
      "Q             1961      3964  1869      4042  1995      3606  1678      2146   \n",
      "R              778       914   788       854   763       860   706       619   \n",
      "X             2337      4110  2376      4286  2567      3598  2229      2117   \n",
      "\n",
      "                    \n",
      "AcademicYear        \n",
      "SWD              Y  \n",
      "Borough             \n",
      "K             1538  \n",
      "M              903  \n",
      "O               14  \n",
      "Q             1069  \n",
      "R              555  \n",
      "X             1246  \n"
     ]
    }
   ],
   "source": [
    "swd_susp_pivot = susp_pivot.pivot_table(index=['Borough'], columns=['AcademicYear','SWD'], values=['Student_ID'], aggfunc='nunique', fill_value=0)\n",
    "print(swd_susp_pivot)"
   ]
  },
  {
   "cell_type": "code",
   "execution_count": 322,
   "metadata": {
    "scrolled": true
   },
   "outputs": [
    {
     "name": "stdout",
     "output_type": "stream",
     "text": [
      "             Student_ID                                                     \\\n",
      "AcademicYear  2012-2013                                                      \n",
      "ethnicity         Asian      Black       Hispanic          Other     White   \n",
      "SWD                   N    Y     N     Y        N     Y  y     N   Y     N   \n",
      "Borough                                                                      \n",
      "K                   308   54  5454  2225     1541   825  2    57  26   558   \n",
      "M                   151   12  1617   798     1615   855  0    46  25   172   \n",
      "O                     0    0     0     3        0     1  0     0   0     0   \n",
      "Q                   732  141  2654  1108     2080   884  0    71  21   478   \n",
      "R                    35   13   454   316      327   227  0    15   9   427   \n",
      "X                    72   24  2462  1127     3195  1655  0    37  18   127   \n",
      "\n",
      "              ...                                                              \n",
      "AcademicYear  ... 2019-2020                                                    \n",
      "ethnicity     ...     Asian     Black      Hispanic      Other     White       \n",
      "SWD           ...         N   Y     N    Y        N    Y     N   Y     N    Y  \n",
      "Borough       ...                                                              \n",
      "K             ...       234  45  1371  869      720  480    59  18   272  126  \n",
      "M             ...        72  16   563  377      608  420    45  19   101   71  \n",
      "O             ...         0   0     0    7        0    4     0   1     0    2  \n",
      "Q             ...       318  75   732  392      820  470    57  32   219  100  \n",
      "R             ...        36   9   198  195      182  202    15  12   188  137  \n",
      "X             ...        47  12   861  482     1131  718    22  10    56   24  \n",
      "\n",
      "[6 rows x 81 columns]\n"
     ]
    }
   ],
   "source": [
    "race_swd_susp_pivot = susp_pivot.pivot_table(index=['Borough'], columns=['AcademicYear','ethnicity', 'SWD'], values=['Student_ID'], aggfunc='nunique', fill_value=0)\n",
    "print(race_swd_susp_pivot)"
   ]
  },
  {
   "cell_type": "code",
   "execution_count": 323,
   "metadata": {
    "scrolled": true
   },
   "outputs": [
    {
     "name": "stdout",
     "output_type": "stream",
     "text": [
      "             Student_ID                                                      \\\n",
      "AcademicYear  2012-2013                                                       \n",
      "ethnicity         Asian               Black                  Hispanic         \n",
      "SWD                   N        Y          N          Y              N         \n",
      "Gender                F    M   F    M     F     M    F     M        F     M   \n",
      "Borough                                                                       \n",
      "K                    44  264   6   48  2307  3147  556  1669      561   980   \n",
      "M                    36  115   0   12   751   866  211   587      641   974   \n",
      "O                     0    0   0    0     0     0    1     2        0     0   \n",
      "Q                   156  576  20  121  1056  1598  286   822      695  1385   \n",
      "R                    12   23   2   11   170   284   82   234      115   212   \n",
      "X                    17   55   2   22  1087  1375  278   849     1230  1965   \n",
      "\n",
      "              ...                                                      \n",
      "AcademicYear  ... 2019-2020                                            \n",
      "ethnicity     ...  Hispanic      Other            White                \n",
      "SWD           ...         Y          N      Y         N        Y       \n",
      "Gender        ...         F    M     F   M  F   M     F    M   F    M  \n",
      "Borough       ...                                                      \n",
      "K             ...       140  340    14  45  3  15    71  201  16  110  \n",
      "M             ...       117  303    19  26  2  17    30   71  10   61  \n",
      "O             ...         0    4     0   0  0   1     0    0   0    2  \n",
      "Q             ...       104  366    16  41  5  27    54  165  11   89  \n",
      "R             ...        56  146     5  10  2  10    64  124  27  110  \n",
      "X             ...       219  499     9  13  3   7    18   38   7   17  \n",
      "\n",
      "[6 rows x 161 columns]\n"
     ]
    }
   ],
   "source": [
    "race_swd_gender_susp_pivot = susp_pivot.pivot_table(index=['Borough'], columns=['AcademicYear','ethnicity', 'SWD', 'Gender'], values=['Student_ID'], aggfunc='nunique', fill_value=0)\n",
    "print(race_swd_gender_susp_pivot)"
   ]
  },
  {
   "cell_type": "code",
   "execution_count": 336,
   "metadata": {},
   "outputs": [],
   "source": [
    "race_enroll_percents.to_excel(r'/Users/holly/Desktop/nycdoe/12152020 race_enroll_percents.xlsx', sheet_name='test',header=True, merge_cells=False)\n",
    "race_susp_percents.to_excel(r'/Users/holly/Desktop/nycdoe/12152020 race_susp_percents.xlsx', sheet_name='test',header=True, merge_cells=False)\n",
    "swd_enroll_percents.to_excel(r'/Users/holly/Desktop/nycdoe/12152020 swd_enroll_percents.xlsx', sheet_name='test',header=True, merge_cells=False)\n",
    "swd_susp_percents.to_excel(r'/Users/holly/Desktop/nycdoe/12152020 swd_susp_percents.xlsx', sheet_name='test',header=True, merge_cells=False)\n",
    "race_swd_enroll_percents.to_excel(r'/Users/holly/Desktop/nycdoe/12152020 race_swd_enroll_percents.xlsx', sheet_name='test',header=True, merge_cells=False)\n",
    "race_swd_susp_percents.to_excel(r'/Users/holly/Desktop/nycdoe/12152020 race_swd_susp_percents.xlsx', sheet_name='test',header=True, merge_cells=False)\n",
    "enroll_total.to_excel(r'/Users/holly/Desktop/nycdoe/12152020 enroll_total.xlsx', sheet_name='test',header=True, merge_cells=False)\n",
    "susp_totals.to_excel(r'/Users/holly/Desktop/nycdoe/12152020 susp_totals.xlsx', sheet_name='test',header=True, merge_cells=False)\n",
    "race_enroll_pivot.to_excel(r'/Users/holly/Desktop/nycdoe/12152020 race_enroll_pivot.xlsx', sheet_name='test',header=True, merge_cells=False)\n",
    "race_susp_pivot.to_excel(r'/Users/holly/Desktop/nycdoe/12152020 race_susp_pivot.xlsx', sheet_name='test',header=True, merge_cells=False)\n",
    "swd_enroll_pivot.to_excel(r'/Users/holly/Desktop/nycdoe/12152020 swd_enroll_pivot.xlsx', sheet_name='test',header=True, merge_cells=False)\n",
    "swd_susp_pivot.to_excel(r'/Users/holly/Desktop/nycdoe/12152020 swd_susp_pivot.xlsx', sheet_name='test',header=True, merge_cells=False)\n",
    "race_swd_enroll_pivot.to_excel(r'/Users/holly/Desktop/nycdoe/12152020 race_swd_enroll_pivot.xlsx', sheet_name='test',header=True, merge_cells=False)\n",
    "race_swd_susp_pivot.to_excel(r'/Users/holly/Desktop/nycdoe/12152020 race_swd_susp_pivot.xlsx', sheet_name='test',header=True, merge_cells=False)\n",
    "race_swd_gender_enroll_pivot.to_excel(r'/Users/holly/Desktop/nycdoe/12152020 race_swd_gender_enroll_pivot.xlsx', sheet_name='test',header=True, merge_cells=False)\n",
    "race_swd_gender_susp_pivot.to_excel(r'/Users/holly/Desktop/nycdoe/12152020 race_swd_gender_susp_pivot.xlsx', sheet_name='test',header=True, merge_cells=False)\n"
   ]
  },
  {
   "cell_type": "code",
   "execution_count": 334,
   "metadata": {},
   "outputs": [],
   "source": [
    "#Source: https://stackoverflow.com/questions/35707723/writing-multiple-pandas-dataframes-to-multiple-excel-worksheets\n",
    "#initialze the excel writer\n",
    "#writer = pd.ExcelWriter('/Users/holly/Desktop/nycdoe/12152020 SUSP Dispro Data Outputv2.xlsx', engine='xlsxwriter')\n",
    "\n",
    "#df1 = pd.DataFrame({'race_enroll_percents'})\n",
    "#df2 = pd.DataFrame({'race_susp_percents'})\n",
    "#df3 = pd.DataFrame({'swd_enroll_percents'})\n",
    "#df4 = pd.DataFrame({'swd_susp_percents'})\n",
    "#df5 = pd.DataFrame({'race_swd_enroll_percents'})\n",
    "#df6 = pd.DataFrame({'race_swd_susp_percents'})\n",
    "#df7 = pd.DataFrame({'enroll_total'}) \n",
    "#df8 = pd.DataFrame({'susp_totals'}) \n",
    "#df9 = pd.DataFrame({'race_enroll_pivot'})\n",
    "#df10 = pd.DataFrame({'race_susp_pivot'})\n",
    "#df11 = pd.DataFrame({'swd_enroll_pivot'})\n",
    "#df12 = pd.DataFrame({'swd_susp_pivot'})\n",
    "#df13 = pd.DataFrame({'race_swd_enroll_pivot'})\n",
    "#df14 = pd.DataFrame({'race_swd_susp_pivot'}) \n",
    "#df15 = pd.DataFrame({'race_swd_gender_enroll_pivot'})\n",
    "#df16 = pd.DataFrame({'race_swd_gender_susp_pivot'})\n",
    "\n",
    "\n",
    "#race_enroll_percents.to_excel(writer, sheet_name='race_enroll')\n",
    "#race_susp_percents.to_excel(writer, sheet_name='race_susp')\n",
    "#swd_enroll_percents.to_excel(writer, sheet_name='swd_enroll')\n",
    "#swd_susp_percents.to_excel(writer, sheet_name='swd_susp')\n",
    "#race_swd_enroll_percents.to_excel(writer, sheet_name='race_swd_enroll')\n",
    "#race_swd_susp_percents.to_excel(writer, sheet_name='race_swd_susp')\n",
    "#enroll_total.to_excel(writer, sheet_name='enroll_total')\n",
    "#susp_totals.to_excel(writer, sheet_name='susp_totals')\n",
    "#race_enroll_pivot.to_excel(writer, sheet_name='race_enroll')\n",
    "#race_susp_pivot.to_excel(writer, sheet_name='race_susp')\n",
    "#swd_enroll_pivot.to_excel(writer, sheet_name='swd_enroll')\n",
    "#swd_susp_pivot.to_excel(writer, sheet_name='swd_susp')\n",
    "#race_swd_enroll_pivot.to_excel(writer, sheet_name='race_swd_enroll')\n",
    "#race_swd_susp_pivot.to_excel(writer, sheet_name='race_swd_susp')\n",
    "#race_swd_gender_enroll_pivot.to_excel(writer, sheet_name='race_swd_gender_enroll')\n",
    "#race_swd_gender_susp_pivot.to_excel(writer, sheet_name='race_swd_gender_susp')\n",
    "\n",
    "#now loop thru and put each on a specific sheet\n",
    "#for sheet, frame in  frames.iteritems(): # .use .items for python 3.X\n",
    "#    frame.to_excel(writer, sheet_name = sheet)\n",
    "\n",
    "#critical last step\n",
    "#writer.save()"
   ]
  },
  {
   "cell_type": "code",
   "execution_count": null,
   "metadata": {},
   "outputs": [],
   "source": []
  }
 ],
 "metadata": {
  "kernelspec": {
   "display_name": "Python 3",
   "language": "python",
   "name": "python3"
  },
  "language_info": {
   "codemirror_mode": {
    "name": "ipython",
    "version": 3
   },
   "file_extension": ".py",
   "mimetype": "text/x-python",
   "name": "python",
   "nbconvert_exporter": "python",
   "pygments_lexer": "ipython3",
   "version": "3.7.9"
  }
 },
 "nbformat": 4,
 "nbformat_minor": 4
}
